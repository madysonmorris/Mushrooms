{
 "cells": [
  {
   "cell_type": "markdown",
   "metadata": {},
   "source": [
    "# Mushrooms!\n",
    " * CSCI 183, Spring 2017 \n",
    " * Erin Gates, Madyson Morris, Tiffany Palmer \n",
    "\n",
    "\"Leaves of three, let me be\" helps you stay away poison oak, but how do you avoid poison mushrooms?\n",
    "\n",
    "In seeking to answer this question, we analyzed data on various poisous and edible mushrooms and compared the  accuracies of various classification algorithms."
   ]
  },
  {
   "cell_type": "code",
   "execution_count": 1,
   "metadata": {
    "collapsed": false
   },
   "outputs": [
    {
     "name": "stdout",
     "output_type": "stream",
     "text": [
      "pandas version 0.19.2\n",
      "numpy version 1.11.3\n",
      "sk-learn version 0.18.1\n",
      "seaborn version 0.7.1\n"
     ]
    }
   ],
   "source": [
    "#import pandas and numpy libraries\n",
    "import pandas as pd\n",
    "import numpy as np\n",
    "import matplotlib as plt\n",
    "\n",
    "#import bernoulli naive bayes from scikit-learn\n",
    "import sklearn as sk\n",
    "#seaborn for pretty plots\n",
    "import seaborn as sns\n",
    "\n",
    "# data visualization\n",
    "import matplotlib.pyplot as plt\n",
    "%matplotlib inline\n",
    "\n",
    "#display versions of python and packages\n",
    "\n",
    "print('pandas version ' + pd.__version__)\n",
    "print('numpy version ' + np.__version__)\n",
    "print('sk-learn version ' + sk.__version__)\n",
    "print('seaborn version ' + sns.__version__)"
   ]
  },
  {
   "cell_type": "markdown",
   "metadata": {},
   "source": [
    "## Exploratory Data Analysis\n",
    "* What does our data look like?\n",
    "* We have data for 22 features, which ones are relevant to our classification?"
   ]
  },
  {
   "cell_type": "markdown",
   "metadata": {},
   "source": [
    "## How are the mushrooms distributed? \n",
    "### The 8124 mushrooms are about evenly split between edible and poisonous"
   ]
  },
  {
   "cell_type": "code",
   "execution_count": 5,
   "metadata": {
    "collapsed": false
   },
   "outputs": [
    {
     "name": "stdout",
     "output_type": "stream",
     "text": [
      "     0  1  2  3  4  5  6  7  8  9  10 11 12 13 14 15 16 17 18 19 20 21 22\n",
      "6123  p  x  s  n  f  y  f  c  n  b  t  ?  s  k  p  w  p  w  o  e  w  v  l\n",
      "6094  p  f  s  e  f  y  f  c  n  b  t  ?  s  k  p  w  p  w  o  e  w  v  l\n",
      "6436  p  x  y  e  f  f  f  c  n  b  t  ?  s  s  w  w  p  w  o  e  w  v  p\n",
      "6869  p  x  s  n  f  f  f  c  n  b  t  ?  s  k  p  p  p  w  o  e  w  v  p\n",
      "5477  p  f  y  w  t  n  f  c  b  r  e  b  s  s  w  w  p  w  t  p  r  v  m\n"
     ]
    }
   ],
   "source": [
    "#read in data. it's comma-separated with no column names.\n",
    "df = pd.read_csv('https://archive.ics.uci.edu/ml/machine-learning-databases/mushroom/agaricus-lepiota.data', sep=',', header=None,\n",
    "                 error_bad_lines=False, warn_bad_lines=True, low_memory=False)\n",
    "# set pandas to output all of the columns in output\n",
    "pd.options.display.max_columns = 25\n",
    "#show the first 5 rows\n",
    "print(df.sample(n=5))"
   ]
  },
  {
   "cell_type": "code",
   "execution_count": 7,
   "metadata": {
    "collapsed": true
   },
   "outputs": [],
   "source": [
    "#manually add column names from documentation (1st col is class: e=edible,p=poisonous; rest are attributes)\n",
    "df.columns = ['class','cap-shape','cap-surface','cap-color','bruises','odor','gill-attachment',\n",
    "             'gill-spacing','gill-size','gill-color','stalk-shape','stalk-root',\n",
    "             'stalk-surf-above-ring','stalk-surf-below-ring','stalk-color-above-ring','stalk-color-below-ring',\n",
    "             'veil-type','veil-color','ring-number','ring-type','spore-color','population','habitat']"
   ]
  },
  {
   "cell_type": "code",
   "execution_count": 8,
   "metadata": {
    "collapsed": false
   },
   "outputs": [
    {
     "name": "stdout",
     "output_type": "stream",
     "text": [
      "e    4208\n",
      "p    3916\n",
      "Name: class, dtype: int64\n"
     ]
    },
    {
     "data": {
      "text/plain": [
       "<matplotlib.axes._subplots.AxesSubplot at 0x10d908610>"
      ]
     },
     "execution_count": 8,
     "metadata": {},
     "output_type": "execute_result"
    },
    {
     "data": {
      "image/png": "[encoded data removed]",
      "text/plain": [
       "<matplotlib.figure.Figure at 0x10d83ee50>"
      ]
     },
     "metadata": {},
     "output_type": "display_data"
    }
   ],
   "source": [
    "#show plots in notebook\n",
    "%matplotlib inline\n",
    "\n",
    "#bar chart of classes using pandas plotting\n",
    "print(df['class'].value_counts())\n",
    "df['class'].value_counts().plot(kind='bar')"
   ]
  },
  {
   "cell_type": "markdown",
   "metadata": {},
   "source": [
    "# How are certain features correlated to classification? "
   ]
  },
  {
   "cell_type": "markdown",
   "metadata": {},
   "source": [
    "## Edibility by Gill Color\n",
    "### Buff=b colored gills are indicative of a poisonous classification"
   ]
  },
  {
   "cell_type": "code",
   "execution_count": 10,
   "metadata": {
    "collapsed": false
   },
   "outputs": [
    {
     "data": {
      "image/png": "[encoded data removed]",
      "text/plain": [
       "<matplotlib.figure.Figure at 0x10e32d690>"
      ]
     },
     "metadata": {},
     "output_type": "display_data"
    }
   ],
   "source": [
    "df_forplot = df\n",
    "g = sns.factorplot(\"class\", col=\"gill-color\", data=df_forplot,\n",
    "                    kind=\"count\", size=2.5, aspect=.8, col_wrap=6)"
   ]
  },
  {
   "cell_type": "markdown",
   "metadata": {},
   "source": [
    "### Distribution of Veil Type\n",
    "It looks like there's only one type of veil in our data set, so we can ignore that feature in our analysis!"
   ]
  },
  {
   "cell_type": "code",
   "execution_count": 11,
   "metadata": {
    "collapsed": false
   },
   "outputs": [
    {
     "data": {
      "text/plain": [
       "<matplotlib.axes._subplots.AxesSubplot at 0x10ed3d950>"
      ]
     },
     "execution_count": 11,
     "metadata": {},
     "output_type": "execute_result"
    },
    {
     "data": {
      "image/png": "[encoded data removed]",
      "text/plain": [
       "<matplotlib.figure.Figure at 0x10eba1fd0>"
      ]
     },
     "metadata": {},
     "output_type": "display_data"
    }
   ],
   "source": [
    "# Distribution for veil-type\n",
    "from collections import Counter\n",
    "\n",
    "letter_counts = Counter(df[\"veil-type\"])\n",
    "df_forveil = pd.DataFrame.from_dict(letter_counts, orient='index')\n",
    "df_forveil.plot(kind=\"bar\")"
   ]
  },
  {
   "cell_type": "markdown",
   "metadata": {},
   "source": [
    "## Try out the Classifier on Different Feature Combinations\n"
   ]
  },
  {
   "cell_type": "code",
   "execution_count": 12,
   "metadata": {
    "collapsed": false
   },
   "outputs": [
    {
     "name": "stdout",
     "output_type": "stream",
     "text": [
      "('cap-shape', array(['b', 'c', 'f', 'k', 's', 'x'], dtype=object))\n",
      "('cap-surface', array(['f', 'g', 's', 'y'], dtype=object))\n",
      "('cap-color', array(['b', 'c', 'e', 'g', 'n', 'p', 'r', 'u', 'w', 'y'], dtype=object))\n",
      "('bruises', array(['f', 't'], dtype=object))\n",
      "('odor', array(['a', 'c', 'f', 'l', 'm', 'n', 'p', 's', 'y'], dtype=object))\n",
      "('gill-attachment', array(['a', 'f'], dtype=object))\n",
      "('gill-spacing', array(['c', 'w'], dtype=object))\n",
      "('gill-size', array(['b', 'n'], dtype=object))\n",
      "('gill-color', array(['b', 'e', 'g', 'h', 'k', 'n', 'o', 'p', 'r', 'u', 'w', 'y'], dtype=object))\n",
      "('stalk-shape', array(['e', 't'], dtype=object))\n",
      "('stalk-root', array(['?', 'b', 'c', 'e', 'r'], dtype=object))\n",
      "('stalk-surf-above-ring', array(['f', 'k', 's', 'y'], dtype=object))\n",
      "('stalk-surf-below-ring', array(['f', 'k', 's', 'y'], dtype=object))\n",
      "('stalk-color-above-ring', array(['b', 'c', 'e', 'g', 'n', 'o', 'p', 'w', 'y'], dtype=object))\n",
      "('stalk-color-below-ring', array(['b', 'c', 'e', 'g', 'n', 'o', 'p', 'w', 'y'], dtype=object))\n",
      "('veil-color', array(['n', 'o', 'w', 'y'], dtype=object))\n",
      "('ring-number', array(['n', 'o', 't'], dtype=object))\n",
      "('ring-type', array(['e', 'f', 'l', 'n', 'p'], dtype=object))\n",
      "('spore-color', array(['b', 'h', 'k', 'n', 'o', 'r', 'u', 'w', 'y'], dtype=object))\n",
      "('population', array(['a', 'c', 'n', 's', 'v', 'y'], dtype=object))\n",
      "('habitat', array(['d', 'g', 'l', 'm', 'p', 'u', 'w'], dtype=object))\n",
      "\n",
      "Example Feature Values - row 1 in X:\n",
      "cap-shape                 x\n",
      "cap-surface               s\n",
      "cap-color                 y\n",
      "bruises                   t\n",
      "odor                      a\n",
      "gill-attachment           f\n",
      "gill-spacing              c\n",
      "gill-size                 b\n",
      "gill-color                k\n",
      "stalk-shape               e\n",
      "stalk-root                c\n",
      "stalk-surf-above-ring     s\n",
      "stalk-surf-below-ring     s\n",
      "stalk-color-above-ring    w\n",
      "stalk-color-below-ring    w\n",
      "veil-color                w\n",
      "ring-number               o\n",
      "ring-type                 p\n",
      "spore-color               n\n",
      "population                n\n",
      "habitat                   g\n",
      "Name: 1, dtype: object\n",
      "\n",
      "Example Encoded Feature Values - row 1 in x:\n",
      "cap-shape                 5\n",
      "cap-surface               2\n",
      "cap-color                 9\n",
      "bruises                   1\n",
      "odor                      0\n",
      "gill-attachment           1\n",
      "gill-spacing              0\n",
      "gill-size                 0\n",
      "gill-color                4\n",
      "stalk-shape               0\n",
      "stalk-root                2\n",
      "stalk-surf-above-ring     2\n",
      "stalk-surf-below-ring     2\n",
      "stalk-color-above-ring    7\n",
      "stalk-color-below-ring    7\n",
      "veil-color                2\n",
      "ring-number               1\n",
      "ring-type                 4\n",
      "spore-color               3\n",
      "population                2\n",
      "habitat                   1\n",
      "Name: 1, dtype: int64\n",
      "\n",
      "Class Values (Y):\n",
      "['p' 'e' 'e' ..., 'e' 'p' 'e']\n",
      "\n",
      "Encoded Class Values (y):\n",
      "[1 0 0 ..., 0 1 0]\n"
     ]
    }
   ],
   "source": [
    "#drop extraneous features\n",
    "df = df.drop(\"veil-type\", 1)\n",
    "\n",
    "#put the features into X (everything except the 0th column)\n",
    "X = pd.DataFrame(df, columns=df.columns[1:len(df.columns)], index=df.index)\n",
    "\n",
    "#put the class values (0th column) into Y \n",
    "Y = df['class']\n",
    "\n",
    "#encode the text category labels as numeric\n",
    "from sklearn import preprocessing\n",
    "le = preprocessing.LabelEncoder()\n",
    "le.fit(Y)\n",
    "#print(le.classes_)\n",
    "#print(np.array(Y))\n",
    "#Y values now boolean values; poison = 1\n",
    "y = le.transform(Y)\n",
    "#print(y_train)\n",
    "\n",
    "#have to initialize or get error below\n",
    "x = pd.DataFrame(X,columns=[X.columns[0]])\n",
    "#encode each feature column and add it to x_train\n",
    "for colname in X.columns:\n",
    "    le.fit(X[colname])\n",
    "    print(colname, le.classes_)\n",
    "    x[colname] = le.transform(X[colname])\n",
    "\n",
    "print('\\nExample Feature Values - row 1 in X:')\n",
    "print(X.iloc[1])\n",
    "print('\\nExample Encoded Feature Values - row 1 in x:')\n",
    "print(x.iloc[1])\n",
    "print('\\nClass Values (Y):')\n",
    "print(np.array(Y))\n",
    "print('\\nEncoded Class Values (y):')\n",
    "print(y)"
   ]
  },
  {
   "cell_type": "markdown",
   "metadata": {},
   "source": [
    "### Classify:\n"
   ]
  },
  {
   "cell_type": "code",
   "execution_count": 13,
   "metadata": {
    "collapsed": false
   },
   "outputs": [
    {
     "name": "stdout",
     "output_type": "stream",
     "text": [
      "('Training accuracy:', 0.844329028635598)\n",
      "('Testing accuracy:', 0.85099999999999998)\n"
     ]
    }
   ],
   "source": [
    "#split the dataset into training and test sets\n",
    "from sklearn.model_selection import train_test_split\n",
    "x_train, x_test, y_train, y_test = train_test_split(x, y, test_size=1000, random_state=(42))\n",
    "\n",
    "#initialize and fit the naive bayes classifier\n",
    "from sklearn.naive_bayes import BernoulliNB\n",
    "skgnb = BernoulliNB(alpha=0.02)\n",
    "skgnb.fit(x_train,y_train)\n",
    "train_predict = skgnb.predict(x_train)\n",
    "#print(train_predict)\n",
    "\n",
    "#see how accurate the training data was fit\n",
    "from sklearn import metrics\n",
    "print(\"Training accuracy:\",metrics.accuracy_score(y_train, train_predict))\n",
    "\n",
    "#use the trained model to predict the test values\n",
    "test_predict = skgnb.predict(x_test)\n",
    "print(\"Testing accuracy:\",metrics.accuracy_score(y_test, test_predict))"
   ]
  },
  {
   "cell_type": "code",
   "execution_count": 14,
   "metadata": {
    "collapsed": false
   },
   "outputs": [
    {
     "name": "stdout",
     "output_type": "stream",
     "text": [
      "\n",
      "Classification Report:\n",
      "             precision    recall  f1-score   support\n",
      "\n",
      "     edible       0.80      0.95      0.87       527\n",
      "  poisonous       0.93      0.74      0.83       473\n",
      "\n",
      "avg / total       0.86      0.85      0.85      1000\n",
      "\n",
      "\n",
      "Confusion Matrix:\n",
      "           predicted-edible  predicted-poisonous\n",
      "actual                                          \n",
      "edible                  499                   28\n",
      "poisonous               121                  352\n",
      "('\\nScore (same thing as test accuracy?): ', 0.85099999999999998)\n"
     ]
    }
   ],
   "source": [
    "print(\"\\nClassification Report:\")\n",
    "print(metrics.classification_report(y_test, test_predict, target_names=['edible','poisonous']))\n",
    "print(\"\\nConfusion Matrix:\")\n",
    "skcm = metrics.confusion_matrix(y_test,test_predict)\n",
    "#putting it into a dataframe so it prints the labels\n",
    "skcm = pd.DataFrame(skcm, columns=['predicted-edible','predicted-poisonous'])\n",
    "skcm['actual'] = ['edible','poisonous']\n",
    "skcm = skcm.set_index('actual')\n",
    "\n",
    "#NOTE: NEED TO MAKE SURE I'M INTERPRETING THE ROWS & COLS RIGHT TO ASSIGN THESE LABELS!\n",
    "print(skcm)\n",
    "\n",
    "print(\"\\nScore (same thing as test accuracy?): \", skgnb.score(x_test,y_test))"
   ]
  },
  {
   "cell_type": "markdown",
   "metadata": {},
   "source": [
    "## Which alpha is best?"
   ]
  },
  {
   "cell_type": "code",
   "execution_count": 15,
   "metadata": {
    "collapsed": false
   },
   "outputs": [
    {
     "data": {
      "image/png": "[encoded data removed]",
      "text/plain": [
       "<matplotlib.figure.Figure at 0x11277ed50>"
      ]
     },
     "metadata": {},
     "output_type": "display_data"
    }
   ],
   "source": [
    "#graph of alphas and corresponding accuracies\n",
    "a = [.005,.01,.02,.04,.08,.1,.2,.5]\n",
    "b = [.8498,.8479,.8726,.872,.8265,.8511,.8406,.8302]\n",
    "\n",
    "plt.xlabel('Alpha Used')\n",
    "plt.ylabel('Testing Accuracy')\n",
    "plt.plot(a, b)\n",
    "plt.show()"
   ]
  },
  {
   "cell_type": "markdown",
   "metadata": {},
   "source": [
    "## K-Fold Cross Validations"
   ]
  },
  {
   "cell_type": "code",
   "execution_count": 16,
   "metadata": {
    "collapsed": false
   },
   "outputs": [
    {
     "name": "stdout",
     "output_type": "stream",
     "text": [
      "5-Fold Cross Validation Accuracy: 0.87 (+/- 0.23)\n"
     ]
    }
   ],
   "source": [
    "from sklearn.model_selection import cross_val_score\n",
    "from sklearn import svm\n",
    "\n",
    "#5-fold cross validation\n",
    "clf = svm.SVC(kernel='linear', C=1)\n",
    "scores = cross_val_score(clf, x, y, cv=5)\n",
    "\n",
    "print(\"5-Fold Cross Validation Accuracy: %0.2f (+/- %0.2f)\" % (scores.mean(), scores.std() * 2))"
   ]
  },
  {
   "cell_type": "code",
   "execution_count": null,
   "metadata": {
    "collapsed": false
   },
   "outputs": [
    {
     "name": "stdout",
     "output_type": "stream",
     "text": [
      "7-Fold Cross Validation Accuracy: 0.89 (+/- 0.22)\n"
     ]
    }
   ],
   "source": [
    "#7-fold cross validation\n",
    "scores = cross_val_score(clf, x, y, cv=7)\n",
    "\n",
    "print(\"7-Fold Cross Validation Accuracy: %0.2f (+/- %0.2f)\" % (scores.mean(), scores.std() * 2))"
   ]
  },
  {
   "cell_type": "code",
   "execution_count": null,
   "metadata": {
    "collapsed": true
   },
   "outputs": [],
   "source": [
    "#10-fold cross validation\n",
    "scores = cross_val_score(clf, x, y, cv=10)\n",
    "\n",
    "print(\"10-Fold Cross Validation Accuracy: %0.2f (+/- %0.2f)\" % (scores.mean(), scores.std() * 2))"
   ]
  },
  {
   "cell_type": "code",
   "execution_count": null,
   "metadata": {
    "collapsed": true
   },
   "outputs": [],
   "source": []
  }
 ],
 "metadata": {
  "kernelspec": {
   "display_name": "Python 2",
   "language": "python",
   "name": "python2"
  },
  "language_info": {
   "codemirror_mode": {
    "name": "ipython",
    "version": 2
   },
   "file_extension": ".py",
   "mimetype": "text/x-python",
   "name": "python",
   "nbconvert_exporter": "python",
   "pygments_lexer": "ipython2",
   "version": "2.7.13"
  }
 },
 "nbformat": 4,
 "nbformat_minor": 2
}
