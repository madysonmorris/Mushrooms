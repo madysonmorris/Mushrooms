{
 "cells": [
  {
   "cell_type": "markdown",
   "metadata": {},
   "source": [
    "# Mushrooms!\n",
    " * CSCI 183, Spring 2017 \n",
    " * Erin Gates, Madyson Morris, Tiffany Palmer \n",
    "\n",
    "\"Leaves of three, let me be\" helps you stay away poison oak, but how do you avoid poison mushrooms?\n",
    "\n",
    "In seeking to answer this question, we analyzed data on various poisous and edible mushrooms and compared the  accuracies of various classification algorithms."
   ]
  },
  {
   "cell_type": "code",
   "execution_count": 1,
   "metadata": {
    "collapsed": false
   },
   "outputs": [
    {
     "name": "stdout",
     "output_type": "stream",
     "text": [
      "pandas version 0.19.2\n",
      "numpy version 1.11.3\n",
      "sk-learn version 0.18.1\n",
      "seaborn version 0.7.1\n"
     ]
    }
   ],
   "source": [
    "#import pandas and numpy libraries\n",
    "import pandas as pd\n",
    "import numpy as np\n",
    "\n",
    "#import bernoulli naive bayes from scikit-learn\n",
    "import sklearn as sk\n",
    "#seaborn for pretty plots\n",
    "import seaborn as sns\n",
    "\n",
    "#display versions of python and packages\n",
    "\n",
    "print('pandas version ' + pd.__version__)\n",
    "print('numpy version ' + np.__version__)\n",
    "print('sk-learn version ' + sk.__version__)\n",
    "print('seaborn version ' + sns.__version__)"
   ]
  },
  {
   "cell_type": "code",
   "execution_count": 2,
   "metadata": {
    "collapsed": false
   },
   "outputs": [
    {
     "name": "stdout",
     "output_type": "stream",
     "text": [
      "     0  1  2  3  4  5  6  7  8  9  10 11 12 13 14 15 16 17 18 19 20 21 22\n",
      "314   e  b  s  y  t  a  f  c  b  g  e  c  s  s  w  w  p  w  o  p  n  n  g\n",
      "1718  e  f  s  g  f  n  f  w  b  p  t  e  f  s  w  w  p  w  o  e  n  s  g\n",
      "5686  e  f  s  b  t  n  f  c  b  e  e  ?  s  s  e  e  p  w  t  e  w  c  w\n",
      "1767  e  x  s  n  f  n  f  w  b  k  t  e  s  s  w  w  p  w  o  e  n  s  g\n",
      "3997  p  x  y  g  f  f  f  c  b  h  e  b  k  k  p  b  p  w  o  l  h  v  g\n"
     ]
    }
   ],
   "source": [
    "#read in data. it's comma-separated with no column names.\n",
    "df = pd.read_csv('https://archive.ics.uci.edu/ml/machine-learning-databases/mushroom/agaricus-lepiota.data', sep=',', header=None,\n",
    "                 error_bad_lines=False, warn_bad_lines=True, low_memory=False)\n",
    "# set pandas to output all of the columns in output\n",
    "pd.options.display.max_columns = 25\n",
    "#show the first 5 rows\n",
    "print(df.sample(n=5))"
   ]
  },
  {
   "cell_type": "code",
   "execution_count": 3,
   "metadata": {
    "collapsed": false
   },
   "outputs": [
    {
     "name": "stdout",
     "output_type": "stream",
     "text": [
      "Example values:\n",
      "\n",
      "class                     e\n",
      "cap-shape                 x\n",
      "cap-surface               y\n",
      "cap-color                 b\n",
      "bruises                   t\n",
      "odor                      n\n",
      "gill-attachment           f\n",
      "gill-spacing              c\n",
      "gill-size                 b\n",
      "gill-color                e\n",
      "stalk-shape               e\n",
      "stalk-root                ?\n",
      "stalk-surf-above-ring     s\n",
      "stalk-surf-below-ring     s\n",
      "stalk-color-above-ring    e\n",
      "stalk-color-below-ring    w\n",
      "veil-type                 p\n",
      "veil-color                w\n",
      "ring-number               t\n",
      "ring-type                 e\n",
      "spore-color               w\n",
      "population                c\n",
      "habitat                   w\n",
      "Name: 3984, dtype: object\n"
     ]
    }
   ],
   "source": [
    "#manually add column names from documentation (1st col is class: e=edible,p=poisonous; rest are attributes)\n",
    "df.columns = ['class','cap-shape','cap-surface','cap-color','bruises','odor','gill-attachment',\n",
    "             'gill-spacing','gill-size','gill-color','stalk-shape','stalk-root',\n",
    "             'stalk-surf-above-ring','stalk-surf-below-ring','stalk-color-above-ring','stalk-color-below-ring',\n",
    "             'veil-type','veil-color','ring-number','ring-type','spore-color','population','habitat']\n",
    "\n",
    "print(\"Example values:\\n\")\n",
    "print(df.iloc[3984]) #this one has a ? value - how are those treated by classifier?"
   ]
  },
  {
   "cell_type": "markdown",
   "metadata": {},
   "source": [
    "## Exploratory Data Analysis\n",
    "* What does our data look like?\n",
    "* We have data for 22 features, which ones are relevant to our classification?"
   ]
  },
  {
   "cell_type": "markdown",
   "metadata": {},
   "source": [
    "## How are the mushrooms distributed? \n",
    "### The 8124 mushrooms are about evenly split between edible and poisonous"
   ]
  },
  {
   "cell_type": "code",
   "execution_count": 4,
   "metadata": {
    "collapsed": false
   },
   "outputs": [
    {
     "name": "stdout",
     "output_type": "stream",
     "text": [
      "e    4208\n",
      "p    3916\n",
      "Name: class, dtype: int64\n"
     ]
    },
    {
     "data": {
      "text/plain": [
       "<matplotlib.axes._subplots.AxesSubplot at 0x116b81b50>"
      ]
     },
     "execution_count": 4,
     "metadata": {},
     "output_type": "execute_result"
    },
    {
     "data": {
      "image/png": "iVBORw0KGgoAAAANSUhEUgAAAXoAAAD0CAYAAACVbe2MAAAABHNCSVQICAgIfAhkiAAAAAlwSFlz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\npMIZ9JJUOINekgpn0EtS4f4P+SFoSOK2t7YAAAAASUVORK5CYII=\n",
      "text/plain": [
       "<matplotlib.figure.Figure at 0x10c85d750>"
      ]
     },
     "metadata": {},
     "output_type": "display_data"
    }
   ],
   "source": [
    "#show plots in notebook\n",
    "%matplotlib inline\n",
    "\n",
    "#bar chart of classes using pandas plotting\n",
    "print(df['class'].value_counts())\n",
    "df['class'].value_counts().plot(kind='bar')"
   ]
  },
  {
   "cell_type": "markdown",
   "metadata": {},
   "source": [
    "# How are certain features correlated to classification? "
   ]
  },
  {
   "cell_type": "code",
   "execution_count": 5,
   "metadata": {
    "collapsed": true
   },
   "outputs": [],
   "source": [
    "#seaborn factorplot to show edible/poisonous breakdown by different factors\n",
    "df_forplot = df #.loc[:,('class','cap-shape','gill-color','veil-type', 'ring-type')]"
   ]
  },
  {
   "cell_type": "markdown",
   "metadata": {},
   "source": [
    "## Edibility by Cap Shape\n",
    "### Cap shape is not strongly correlated to classification as edible or poisonous"
   ]
  },
  {
   "cell_type": "code",
   "execution_count": 6,
   "metadata": {
    "collapsed": false,
    "scrolled": false
   },
   "outputs": [
    {
     "data": {
      "image/png": "iVBORw0KGgoAAAANSUhEUgAAA2YAAACsCAYAAAAQTr+xAAAABHNCSVQICAgIfAhkiAAAAAlwSFlz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\nJEmSJBX2/+w6e6JuoBkBAAAAAElFTkSuQmCC\n",
      "text/plain": [
       "<matplotlib.figure.Figure at 0x10b86f350>"
      ]
     },
     "metadata": {},
     "output_type": "display_data"
    }
   ],
   "source": [
    "g = sns.factorplot(\"class\", col=\"cap-shape\", data=df_forplot,\n",
    "                    kind=\"count\", size=2.5, aspect=.8, col_wrap=6)"
   ]
  },
  {
   "cell_type": "markdown",
   "metadata": {},
   "source": [
    "## Edibility by Gill Color\n",
    "### Buff=b colored gills are indicative of a poisonous classification"
   ]
  },
  {
   "cell_type": "code",
   "execution_count": 7,
   "metadata": {
    "collapsed": false,
    "scrolled": false
   },
   "outputs": [
    {
     "data": {
      "image/png": "iVBORw0KGgoAAAANSUhEUgAAA2YAAAFgCAYAAADQE2rKAAAABHNCSVQICAgIfAhkiAAAAAlwSFlz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\nqTCLmSRJkiQV9v8BRGGg0ctAUBEAAAAASUVORK5CYII=\n",
      "text/plain": [
       "<matplotlib.figure.Figure at 0x11a51f350>"
      ]
     },
     "metadata": {},
     "output_type": "display_data"
    }
   ],
   "source": [
    "g = sns.factorplot(\"class\", col=\"gill-color\", data=df_forplot,\n",
    "                    kind=\"count\", size=2.5, aspect=.8, col_wrap=6)"
   ]
  },
  {
   "cell_type": "markdown",
   "metadata": {},
   "source": [
    "## Edibility by Veil Type\n",
    "### Note, there is only one veil type, and the mushrooms are about evenly split between edible and poisonous"
   ]
  },
  {
   "cell_type": "code",
   "execution_count": 8,
   "metadata": {
    "collapsed": false
   },
   "outputs": [
    {
     "data": {
      "image/png": "iVBORw0KGgoAAAANSUhEUgAAALgAAACsCAYAAADIdGZKAAAABHNCSVQICAgIfAhkiAAAAAlwSFlz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\nVC0Bj6ol4FG1/wdQ21PV6WZ6MgAAAABJRU5ErkJggg==\n",
      "text/plain": [
       "<matplotlib.figure.Figure at 0x11ad63490>"
      ]
     },
     "metadata": {},
     "output_type": "display_data"
    }
   ],
   "source": [
    "g = sns.factorplot(\"class\", col='veil-type', data=df_forplot,\n",
    "                    kind=\"count\", size=2.5, aspect=.8, col_wrap=6)"
   ]
  },
  {
   "cell_type": "markdown",
   "metadata": {},
   "source": [
    "### Distribution of Veil Type\n",
    "It looks like there's only one type of veil in our data set, so we can ignore that feature in our analysis!"
   ]
  },
  {
   "cell_type": "code",
   "execution_count": 9,
   "metadata": {
    "collapsed": false
   },
   "outputs": [
    {
     "data": {
      "text/plain": [
       "<matplotlib.axes._subplots.AxesSubplot at 0x11adf40d0>"
      ]
     },
     "execution_count": 9,
     "metadata": {},
     "output_type": "execute_result"
    },
    {
     "data": {
      "image/png": "iVBORw0KGgoAAAANSUhEUgAAAXoAAAD0CAYAAACVbe2MAAAABHNCSVQICAgIfAhkiAAAAAlwSFlz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\n",
      "text/plain": [
       "<matplotlib.figure.Figure at 0x11ad488d0>"
      ]
     },
     "metadata": {},
     "output_type": "display_data"
    }
   ],
   "source": [
    "# Distribution for veil-type\n",
    "from collections import Counter\n",
    "\n",
    "letter_counts = Counter(df[\"veil-type\"])\n",
    "df_forveil = pd.DataFrame.from_dict(letter_counts, orient='index')\n",
    "df_forveil.plot(kind=\"bar\")"
   ]
  },
  {
   "cell_type": "markdown",
   "metadata": {},
   "source": [
    "## Edibility by Ring Type\n",
    "### N=none are entirely poisonous, F=flaring are entirely edible, P=pendant tend to be edible"
   ]
  },
  {
   "cell_type": "code",
   "execution_count": 10,
   "metadata": {
    "collapsed": false
   },
   "outputs": [
    {
     "data": {
      "image/png": "iVBORw0KGgoAAAANSUhEUgAAAt0AAACsCAYAAACn1hC/AAAABHNCSVQICAgIfAhkiAAAAAlwSFlz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\nAAAASUVORK5CYII=\n",
      "text/plain": [
       "<matplotlib.figure.Figure at 0x116d27ed0>"
      ]
     },
     "metadata": {},
     "output_type": "display_data"
    }
   ],
   "source": [
    "g = sns.factorplot(\"class\", col='ring-type', data=df_forplot,\n",
    "                    kind=\"count\", size=2.5, aspect=.8, col_wrap=6)"
   ]
  },
  {
   "cell_type": "markdown",
   "metadata": {},
   "source": [
    "## Try out the Classifier on Different Feature Combinations"
   ]
  },
  {
   "cell_type": "code",
   "execution_count": 11,
   "metadata": {
    "collapsed": false
   },
   "outputs": [
    {
     "name": "stdout",
     "output_type": "stream",
     "text": [
      "('cap-shape', array(['b', 'c', 'f', 'k', 's', 'x'], dtype=object))\n",
      "('cap-surface', array(['f', 'g', 's', 'y'], dtype=object))\n",
      "('cap-color', array(['b', 'c', 'e', 'g', 'n', 'p', 'r', 'u', 'w', 'y'], dtype=object))\n",
      "('bruises', array(['f', 't'], dtype=object))\n",
      "('odor', array(['a', 'c', 'f', 'l', 'm', 'n', 'p', 's', 'y'], dtype=object))\n",
      "('gill-attachment', array(['a', 'f'], dtype=object))\n",
      "('gill-spacing', array(['c', 'w'], dtype=object))\n",
      "('gill-size', array(['b', 'n'], dtype=object))\n",
      "('gill-color', array(['b', 'e', 'g', 'h', 'k', 'n', 'o', 'p', 'r', 'u', 'w', 'y'], dtype=object))\n",
      "('stalk-shape', array(['e', 't'], dtype=object))\n",
      "('stalk-root', array(['?', 'b', 'c', 'e', 'r'], dtype=object))\n",
      "('stalk-surf-above-ring', array(['f', 'k', 's', 'y'], dtype=object))\n",
      "('stalk-surf-below-ring', array(['f', 'k', 's', 'y'], dtype=object))\n",
      "('stalk-color-above-ring', array(['b', 'c', 'e', 'g', 'n', 'o', 'p', 'w', 'y'], dtype=object))\n",
      "('stalk-color-below-ring', array(['b', 'c', 'e', 'g', 'n', 'o', 'p', 'w', 'y'], dtype=object))\n",
      "('veil-color', array(['n', 'o', 'w', 'y'], dtype=object))\n",
      "('ring-number', array(['n', 'o', 't'], dtype=object))\n",
      "('ring-type', array(['e', 'f', 'l', 'n', 'p'], dtype=object))\n",
      "('spore-color', array(['b', 'h', 'k', 'n', 'o', 'r', 'u', 'w', 'y'], dtype=object))\n",
      "('population', array(['a', 'c', 'n', 's', 'v', 'y'], dtype=object))\n",
      "('habitat', array(['d', 'g', 'l', 'm', 'p', 'u', 'w'], dtype=object))\n",
      "\n",
      "Example Feature Values - row 1 in X:\n",
      "cap-shape                 x\n",
      "cap-surface               s\n",
      "cap-color                 y\n",
      "bruises                   t\n",
      "odor                      a\n",
      "gill-attachment           f\n",
      "gill-spacing              c\n",
      "gill-size                 b\n",
      "gill-color                k\n",
      "stalk-shape               e\n",
      "stalk-root                c\n",
      "stalk-surf-above-ring     s\n",
      "stalk-surf-below-ring     s\n",
      "stalk-color-above-ring    w\n",
      "stalk-color-below-ring    w\n",
      "veil-color                w\n",
      "ring-number               o\n",
      "ring-type                 p\n",
      "spore-color               n\n",
      "population                n\n",
      "habitat                   g\n",
      "Name: 1, dtype: object\n",
      "\n",
      "Example Encoded Feature Values - row 1 in x:\n",
      "cap-shape                 5\n",
      "cap-surface               2\n",
      "cap-color                 9\n",
      "bruises                   1\n",
      "odor                      0\n",
      "gill-attachment           1\n",
      "gill-spacing              0\n",
      "gill-size                 0\n",
      "gill-color                4\n",
      "stalk-shape               0\n",
      "stalk-root                2\n",
      "stalk-surf-above-ring     2\n",
      "stalk-surf-below-ring     2\n",
      "stalk-color-above-ring    7\n",
      "stalk-color-below-ring    7\n",
      "veil-color                2\n",
      "ring-number               1\n",
      "ring-type                 4\n",
      "spore-color               3\n",
      "population                2\n",
      "habitat                   1\n",
      "Name: 1, dtype: int64\n",
      "\n",
      "Class Values (Y):\n",
      "['p' 'e' 'e' ..., 'e' 'p' 'e']\n",
      "\n",
      "Encoded Class Values (y):\n",
      "[1 0 0 ..., 0 1 0]\n"
     ]
    }
   ],
   "source": [
    "#drop extraneous features\n",
    "df = df.drop(\"veil-type\", 1)\n",
    "\n",
    "#put the features into X (everything except the 0th column)\n",
    "X = pd.DataFrame(df, columns=df.columns[1:len(df.columns)], index=df.index)\n",
    "\n",
    "#put the class values (0th column) into Y \n",
    "Y = df['class']\n",
    "\n",
    "#encode the text category labels as numeric\n",
    "from sklearn import preprocessing\n",
    "le = preprocessing.LabelEncoder()\n",
    "le.fit(Y)\n",
    "#print(le.classes_)\n",
    "#print(np.array(Y))\n",
    "#Y values now boolean values; poison = 1\n",
    "y = le.transform(Y)\n",
    "#print(y_train)\n",
    "\n",
    "#have to initialize or get error below\n",
    "x = pd.DataFrame(X,columns=[X.columns[0]])\n",
    "#encode each feature column and add it to x_train\n",
    "for colname in X.columns:\n",
    "    le.fit(X[colname])\n",
    "    print(colname, le.classes_)\n",
    "    x[colname] = le.transform(X[colname])\n",
    "\n",
    "print('\\nExample Feature Values - row 1 in X:')\n",
    "print(X.iloc[1])\n",
    "print('\\nExample Encoded Feature Values - row 1 in x:')\n",
    "print(x.iloc[1])\n",
    "print('\\nClass Values (Y):')\n",
    "print(np.array(Y))\n",
    "print('\\nEncoded Class Values (y):')\n",
    "print(y)"
   ]
  },
  {
   "cell_type": "markdown",
   "metadata": {},
   "source": [
    "### Classify:"
   ]
  },
  {
   "cell_type": "code",
   "execution_count": 12,
   "metadata": {
    "collapsed": false
   },
   "outputs": [
    {
     "name": "stdout",
     "output_type": "stream",
     "text": [
      "('Training accuracy:', 0.844329028635598)\n",
      "('Testing accuracy:', 0.85099999999999998)\n"
     ]
    }
   ],
   "source": [
    "#split the dataset into training and test sets\n",
    "from sklearn.model_selection import train_test_split\n",
    "x_train, x_test, y_train, y_test = train_test_split(x, y, test_size=1000, random_state=(42))\n",
    "\n",
    "#initialize and fit the naive bayes classifier\n",
    "from sklearn.naive_bayes import BernoulliNB\n",
    "skgnb = BernoulliNB(alpha=0.02)\n",
    "skgnb.fit(x_train,y_train)\n",
    "train_predict = skgnb.predict(x_train)\n",
    "#print(train_predict)\n",
    "\n",
    "#see how accurate the training data was fit\n",
    "from sklearn import metrics\n",
    "print(\"Training accuracy:\",metrics.accuracy_score(y_train, train_predict))\n",
    "\n",
    "#use the trained model to predict the test values\n",
    "test_predict = skgnb.predict(x_test)\n",
    "print(\"Testing accuracy:\",metrics.accuracy_score(y_test, test_predict))\n"
    "\n"
    "x = [.005,.01,.02,.04,.08,.1,.2,.5]\n"
    "y = [.8498,.8479,.8726,.872,.8265,.8511,.8406,.8302]\n"

    "plt.xlabel('Alpha Used')\n"
    "plt.ylabel('Testing Accuracy')\n"
    "plt.plot(x, y)\n"
    "plt.show()\n"
   ]
  },
  {
   "cell_type": "code",
   "execution_count": 13,
   "metadata": {
    "collapsed": false
   },
   "outputs": [
    {
     "name": "stdout",
     "output_type": "stream",
     "text": [
      "\n",
      "Classification Report:\n",
      "             precision    recall  f1-score   support\n",
      "\n",
      "     edible       0.80      0.95      0.87       527\n",
      "  poisonous       0.93      0.74      0.83       473\n",
      "\n",
      "avg / total       0.86      0.85      0.85      1000\n",
      "\n",
      "\n",
      "Confusion Matrix:\n",
      "           predicted-edible  predicted-poisonous\n",
      "actual                                          \n",
      "edible                  499                   28\n",
      "poisonous               121                  352\n",
      "('\\nScore (same thing as test accuracy?): ', 0.85099999999999998)\n"
     ]
    }
   ],
   "source": [
    "print(\"\\nClassification Report:\")\n",
    "print(metrics.classification_report(y_test, test_predict, target_names=['edible','poisonous']))\n",
    "print(\"\\nConfusion Matrix:\")\n",
    "skcm = metrics.confusion_matrix(y_test,test_predict)\n",
    "#putting it into a dataframe so it prints the labels\n",
    "skcm = pd.DataFrame(skcm, columns=['predicted-edible','predicted-poisonous'])\n",
    "skcm['actual'] = ['edible','poisonous']\n",
    "skcm = skcm.set_index('actual')\n",
    "\n",
    "#NOTE: NEED TO MAKE SURE I'M INTERPRETING THE ROWS & COLS RIGHT TO ASSIGN THESE LABELS!\n",
    "print(skcm)\n",
    "\n",
    "print(\"\\nScore (same thing as test accuracy?): \", skgnb.score(x_test,y_test))"
   ]
  },
  {
   "cell_type": "markdown",
   "metadata": {},
   "source": [
    "# Comparison: Decision Tree\n"
   ]
  },
  {
   "cell_type": "markdown",
   "metadata": {},
   "source": [
    "insert here description of decision tree\n"
   ]
  },
  {
   "cell_type": "code",
   "execution_count": null,
   "metadata": {
    "collapsed": true
   },
   "outputs": [],
   "source": [
    "from sklearn import tree\n",
    "from sklearn.cross_validation import train_test_split\n",
    "from sklearn.tree import DecisionTreeClassifier, export_graphviz\n",
    "from sklearn.metrics import accuracy_score\n",
    "import sklearn.metrics as metrics\n",
    "from sklearn import model_selection"
   ]
  },
  {
   "cell_type": "code",
   "execution_count": null,
   "metadata": {
    "collapsed": true
   },
   "outputs": [],
   "source": [
    "Y = df['classification']\n",
    "X = df[df.columns[1:]]\n",
    "X_dummy = pd.get_dummies(X)\n",
    "Y_dummy = Y.apply(lambda x: 1 if x=='e' else 0)\n",
    "X_train = X_dummy[:7000]\n",
    "X_test = X_dummy[7000:]\n",
    "Y_train = Y_dummy[:7000]\n",
    "T_test = Y_dummy[7000:]\n",
    "clf = tree.DecisionTreeClassifier(random_state=42)\n",
    "#X_test, Y_test, clf = train_model()\n",
    "clf = clf.fit(X_train, Y_train)"
   ]
  },
  {
   "cell_type": "code",
   "execution_count": 1,
   "metadata": {
    "collapsed": false
   },
   "outputs": [
    {
     "ename": "NameError",
     "evalue": "name 'np' is not defined",
     "output_type": "error",
     "traceback": [
      "\u001b[0;31m---------------------------------------------------------------------------\u001b[0m",
      "\u001b[0;31mNameError\u001b[0m                                 Traceback (most recent call last)",
      "\u001b[0;32m<ipython-input-1-58c7b797c6eb>\u001b[0m in \u001b[0;36m<module>\u001b[0;34m()\u001b[0m\n\u001b[0;32m----> 1\u001b[0;31m \u001b[0msizes\u001b[0m \u001b[0;34m=\u001b[0m \u001b[0mnp\u001b[0m\u001b[0;34m.\u001b[0m\u001b[0marange\u001b[0m\u001b[0;34m(\u001b[0m\u001b[0;36m0.9\u001b[0m\u001b[0;34m,\u001b[0m\u001b[0;36m0.01\u001b[0m\u001b[0;34m,\u001b[0m \u001b[0;34m-\u001b[0m\u001b[0;36m0.02\u001b[0m\u001b[0;34m)\u001b[0m\u001b[0;34m\u001b[0m\u001b[0m\n\u001b[0m\u001b[1;32m      2\u001b[0m \u001b[0;31m#sizes is an array\u001b[0m\u001b[0;34m\u001b[0m\u001b[0;34m\u001b[0m\u001b[0m\n\u001b[1;32m      3\u001b[0m \u001b[0mresult\u001b[0m \u001b[0;34m=\u001b[0m \u001b[0;34m{\u001b[0m\u001b[0;34m}\u001b[0m\u001b[0;34m\u001b[0m\u001b[0m\n\u001b[1;32m      4\u001b[0m \u001b[0mtotalprecision\u001b[0m \u001b[0;34m=\u001b[0m \u001b[0;36m0\u001b[0m\u001b[0;34m\u001b[0m\u001b[0m\n\u001b[1;32m      5\u001b[0m \u001b[0mtotalaccuracy\u001b[0m \u001b[0;34m=\u001b[0m \u001b[0;36m0\u001b[0m\u001b[0;34m\u001b[0m\u001b[0m\n",
      "\u001b[0;31mNameError\u001b[0m: name 'np' is not defined"
     ]
    }
   ],
   "source": [
    "sizes = np.arange(0.9,0.01, -0.02)\n",
    "#sizes is an array\n",
    "result = {}\n",
    "totalprecision = 0\n",
    "totalaccuracy = 0\n",
    "for size in sizes:\n",
    "    X_train, X_test, Y_train, Y_test = model_selection.train_test_split(\n",
    "        X_dummy, Y_dummy, test_size=size, random_state=42)\n",
    "    clf = tree.DecisionTreeClassifier(random_state=42)\n",
    "    clf = clf.fit(X_train, Y_train)\n",
    "    score     = clf.score(X_test, Y_test)\n",
    "    precision = metrics.precision_score(Y_test, clf.predict(X_test))\n",
    "    totalprecision+=precision\n",
    "    accuracy = metrics.accuracy_score(Y_test, clf.predict(X_test))\n",
    "    totalaccuracy+=accuracy\n",
    "    recall    = metrics.recall_score(Y_test, clf.predict(X_test))\n",
    "    result[len(Y_train)] = (score, precision, recall)\n",
    "    \n",
    "    \n",
    "print(\"\\nPrecision Report:\")\n",
    "print(totalprecision/len(sizes))\n",
    "print(\"\\nAccuracy Report:\")\n",
    "print(totalaccuracy/len(sizes))\n",
    "\n",
    "precision1 = metrics.precision_score(Y_test, clf.predict(X_test))\n",
    "print(precision1)"
   ]
  },
  {
   "cell_type": "code",
   "execution_count": null,
   "metadata": {
    "collapsed": true
   },
   "outputs": [],
   "source": [
    "result = pd.DataFrame(result).transpose()\n",
    "result.columns = ['Accuracy', 'Precision', 'Recall']\n",
    "result.plot(marker='*', figsize=(15,5))\n",
    "plt.title('Metrics measures using random train/test splitting')\n",
    "plt.xlabel('Size of training set')\n",
    "plt.ylabel('Value');\n"
   ]
  }
 ],
 "metadata": {
  "kernelspec": {
   "display_name": "Python 2",
   "language": "python",
   "name": "python2"
  },
  "language_info": {
   "codemirror_mode": {
    "name": "ipython",
    "version": 2
   },
   "file_extension": ".py",
   "mimetype": "text/x-python",
   "name": "python",
   "nbconvert_exporter": "python",
   "pygments_lexer": "ipython2",
   "version": "2.7.13"
  }
 },
 "nbformat": 4,
 "nbformat_minor": 2
}
