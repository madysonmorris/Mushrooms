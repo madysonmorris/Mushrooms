{
 "cells": [
  {
   "cell_type": "markdown",
   "metadata": {},
   "source": [
    "# Mushrooms!\n",
    " * CSCI 183, Spring 2017 \n",
    " * Erin Gates, Madyson Morris, Tiffany Palmer \n",
    "\n",
    "\"Leaves of three, let me be\" helps you stay away poison oak, but how do you avoid poison mushrooms?\n",
    "\n",
    "In seeking to answer this question, we analyzed data on various poisous and edible mushrooms and compared the  accuracies of various classification algorithms."
   ]
  },
  {
   "cell_type": "code",
   "execution_count": 67,
   "metadata": {
    "collapsed": false
   },
   "outputs": [
    {
     "name": "stdout",
     "output_type": "stream",
     "text": [
      "pandas version 0.19.2\n",
      "numpy version 1.11.3\n",
      "sk-learn version 0.18.1\n",
      "seaborn version 0.7.1\n"
     ]
    }
   ],
   "source": [
    "#import pandas and numpy libraries\n",
    "import pandas as pd\n",
    "import numpy as np\n",
    "import matplotlib as plt\n",
    "\n",
    "#import bernoulli naive bayes from scikit-learn\n",
    "import sklearn as sk\n",
    "#seaborn for pretty plots\n",
    "import seaborn as sns\n",
    "\n",
    "# data visualization\n",
    "import matplotlib.pyplot as plt\n",
    "%matplotlib inline\n",
    "\n",
    "#display versions of python and packages\n",
    "\n",
    "print('pandas version ' + pd.__version__)\n",
    "print('numpy version ' + np.__version__)\n",
    "print('sk-learn version ' + sk.__version__)\n",
    "print('seaborn version ' + sns.__version__)"
   ]
  },
  {
   "cell_type": "code",
   "execution_count": 68,
   "metadata": {
    "collapsed": false
   },
   "outputs": [
    {
     "name": "stdout",
     "output_type": "stream",
     "text": [
      "     0  1  2  3  4  5  6  7  8  9  10 11 12 13 14 15 16 17 18 19 20 21 22\n",
      "5664  e  k  f  n  f  n  f  w  n  w  e  b  f  s  w  n  p  w  o  e  w  v  l\n",
      "4601  p  f  f  y  f  f  f  c  b  g  e  b  k  k  p  n  p  w  o  l  h  v  g\n",
      "951   e  b  s  y  t  l  f  c  b  n  e  c  s  s  w  w  p  w  o  p  k  s  g\n",
      "4206  p  f  y  g  f  f  f  c  b  g  e  b  k  k  n  p  p  w  o  l  h  y  p\n",
      "640   e  b  y  y  t  l  f  c  b  w  e  c  s  s  w  w  p  w  o  p  k  n  m\n"
     ]
    }
   ],
   "source": [
    "#read in data. it's comma-separated with no column names.\n",
    "df = pd.read_csv('https://archive.ics.uci.edu/ml/machine-learning-databases/mushroom/agaricus-lepiota.data', sep=',', header=None,\n",
    "                 error_bad_lines=False, warn_bad_lines=True, low_memory=False)\n",
    "# set pandas to output all of the columns in output\n",
    "pd.options.display.max_columns = 25\n",
    "#show the first 5 rows\n",
    "print(df.sample(n=5))"
   ]
  },
  {
   "cell_type": "code",
   "execution_count": 69,
   "metadata": {
    "collapsed": false
   },
   "outputs": [
    {
     "name": "stdout",
     "output_type": "stream",
     "text": [
      "Example values:\n",
      "\n",
      "class                     e\n",
      "cap-shape                 x\n",
      "cap-surface               y\n",
      "cap-color                 b\n",
      "bruises                   t\n",
      "odor                      n\n",
      "gill-attachment           f\n",
      "gill-spacing              c\n",
      "gill-size                 b\n",
      "gill-color                e\n",
      "stalk-shape               e\n",
      "stalk-root                ?\n",
      "stalk-surf-above-ring     s\n",
      "stalk-surf-below-ring     s\n",
      "stalk-color-above-ring    e\n",
      "stalk-color-below-ring    w\n",
      "veil-type                 p\n",
      "veil-color                w\n",
      "ring-number               t\n",
      "ring-type                 e\n",
      "spore-color               w\n",
      "population                c\n",
      "habitat                   w\n",
      "Name: 3984, dtype: object\n"
     ]
    }
   ],
   "source": [
    "#manually add column names from documentation (1st col is class: e=edible,p=poisonous; rest are attributes)\n",
    "df.columns = ['class','cap-shape','cap-surface','cap-color','bruises','odor','gill-attachment',\n",
    "             'gill-spacing','gill-size','gill-color','stalk-shape','stalk-root',\n",
    "             'stalk-surf-above-ring','stalk-surf-below-ring','stalk-color-above-ring','stalk-color-below-ring',\n",
    "             'veil-type','veil-color','ring-number','ring-type','spore-color','population','habitat']\n",
    "\n",
    "print(\"Example values:\\n\")\n",
    "print(df.iloc[3984]) #this one has a ? value - how are those treated by classifier?"
   ]
  },
  {
   "cell_type": "markdown",
   "metadata": {},
   "source": [
    "## Exploratory Data Analysis\n",
    "* What does our data look like?\n",
    "* We have data for 22 features, which ones are relevant to our classification?"
   ]
  },
  {
   "cell_type": "markdown",
   "metadata": {},
   "source": [
    "## How are the mushrooms distributed? \n",
    "### The 8124 mushrooms are about evenly split between edible and poisonous"
   ]
  },
  {
   "cell_type": "code",
   "execution_count": 70,
   "metadata": {
    "collapsed": false
   },
   "outputs": [
    {
     "name": "stdout",
     "output_type": "stream",
     "text": [
      "e    4208\n",
      "p    3916\n",
      "Name: class, dtype: int64\n"
     ]
    },
    {
     "data": {
      "text/plain": [
       "<matplotlib.axes._subplots.AxesSubplot at 0x11cd60a50>"
      ]
     },
     "execution_count": 70,
     "metadata": {},
     "output_type": "execute_result"
    },
    {
     "data": {
      "image/png": "[encoded data removed]",
      "text/plain": [
       "<matplotlib.figure.Figure at 0x11d113690>"
      ]
     },
     "metadata": {},
     "output_type": "display_data"
    }
   ],
   "source": [
    "#show plots in notebook\n",
    "%matplotlib inline\n",
    "\n",
    "#bar chart of classes using pandas plotting\n",
    "print(df['class'].value_counts())\n",
    "df['class'].value_counts().plot(kind='bar')"
   ]
  },
  {
   "cell_type": "markdown",
   "metadata": {},
   "source": [
    "# How are certain features correlated to classification? \n",
    "* ### We'll start by plotting counts for poisonous/edible mushrooms by feature.\n",
    "* ### For some features we will use a correlation matrix for a more comprehensive view"
   ]
  },
  {
   "cell_type": "code",
   "execution_count": 71,
   "metadata": {
    "collapsed": true
   },
   "outputs": [],
   "source": [
    "#seaborn factorplot to show edible/poisonous breakdown by different factors\n",
    "df_forplot = df #.loc[:,('class','cap-shape','gill-color','veil-type', 'ring-type')]"
   ]
  },
  {
   "cell_type": "markdown",
   "metadata": {},
   "source": [
    "## Correlation matrix from matplotlib:"
   ]
  },
  {
   "cell_type": "code",
   "execution_count": 72,
   "metadata": {
    "collapsed": true
   },
   "outputs": [],
   "source": [
    "def correlation_matrix(df,labels,matrixTitle):\n",
    "    from matplotlib import pyplot as plt\n",
    "    from matplotlib import cm as cm\n",
    "\n",
    "    fig = plt.figure()\n",
    "    ax1 = fig.add_subplot(111)\n",
    "    cmap = cm.get_cmap('jet', 20)\n",
    "    cax = ax1.imshow(df.corr(), interpolation=\"nearest\", cmap=cmap)\n",
    "    ax1.grid(True)\n",
    "    plt.title(matrixTitle)\n",
    "    \n",
    "    ax1.set_xticks(np.arange(0, len(labels), 1))\n",
    "    ax1.set_yticks(np.arange(0, len(labels), 1))\n",
    "    \n",
    "    ax1.set_xticklabels(labels,fontsize=12, rotation=90)\n",
    "    ax1.set_yticklabels(labels,fontsize=12)\n",
    "    # Add colorbar, make sure to specify tick locations to match desired ticklabels\n",
    "    fig.colorbar(cax)\n",
    "    plt.show()"
   ]
  },
  {
   "cell_type": "markdown",
   "metadata": {},
   "source": [
    "## Edibility by Cap Shape\n",
    "### Cap shape is not strongly correlated to classification as edible or poisonous"
   ]
  },
  {
   "cell_type": "code",
   "execution_count": 73,
   "metadata": {
    "collapsed": false,
    "scrolled": false
   },
   "outputs": [
    {
     "data": {
      "image/png": "[encoded data removed]",
      "text/plain": [
       "<matplotlib.figure.Figure at 0x118778090>"
      ]
     },
     "metadata": {},
     "output_type": "display_data"
    }
   ],
   "source": [
    "g = sns.factorplot(\"class\", col=\"cap-shape\", data=df_forplot,\n",
    "                    kind=\"count\", size=2.5, aspect=.8, col_wrap=6)"
   ]
  },
  {
   "cell_type": "markdown",
   "metadata": {},
   "source": [
    "## Edibility by Cap Surface\n",
    "### Cap surface is not strongly correlated to edibility"
   ]
  },
  {
   "cell_type": "code",
   "execution_count": 74,
   "metadata": {
    "collapsed": false,
    "scrolled": false
   },
   "outputs": [
    {
     "data": {
      "image/png": "[encoded data removed]",
      "text/plain": [
       "<matplotlib.figure.Figure at 0x11ca1da50>"
      ]
     },
     "metadata": {},
     "output_type": "display_data"
    }
   ],
   "source": [
    "g = sns.factorplot(\"class\", col=\"cap-surface\", data=df_forplot,\n",
    "                    kind=\"count\", size=2.5, aspect=.8, col_wrap=6)"
   ]
  },
  {
   "cell_type": "markdown",
   "metadata": {},
   "source": [
    "## Edibility by Cap Color\n",
    "### Cap color is not strongly correlated to edibility"
   ]
  },
  {
   "cell_type": "code",
   "execution_count": 75,
   "metadata": {
    "collapsed": false,
    "scrolled": false
   },
   "outputs": [
    {
     "data": {
      "image/png": "[encoded data removed]",
      "text/plain": [
       "<matplotlib.figure.Figure at 0x11cbae8d0>"
      ]
     },
     "metadata": {},
     "output_type": "display_data"
    }
   ],
   "source": [
    "g = sns.factorplot(\"class\", col=\"cap-color\", data=df_forplot,\n",
    "                    kind=\"count\", size=2.5, aspect=.8, col_wrap=6)"
   ]
  },
  {
   "cell_type": "markdown",
   "metadata": {},
   "source": [
    "## Edibility by Bruises\n",
    "### Bruises tend to appear in edible mushrooms, but the correlation is not strong"
   ]
  },
  {
   "cell_type": "code",
   "execution_count": 76,
   "metadata": {
    "collapsed": false,
    "scrolled": false
   },
   "outputs": [
    {
     "data": {
      "image/png": "[encoded data removed]",
      "text/plain": [
       "<matplotlib.figure.Figure at 0x11e0fa9d0>"
      ]
     },
     "metadata": {},
     "output_type": "display_data"
    }
   ],
   "source": [
    "g = sns.factorplot(\"class\", col=\"bruises\", data=df_forplot,\n",
    "                    kind=\"count\", size=2.5, aspect=.8, col_wrap=6)"
   ]
  },
  {
   "cell_type": "markdown",
   "metadata": {},
   "source": [
    "## Edibility by Odor\n",
    "### A=anise, L=Almond, and N=no odor are indicative of edibility"
   ]
  },
  {
   "cell_type": "code",
   "execution_count": 77,
   "metadata": {
    "collapsed": false,
    "scrolled": false
   },
   "outputs": [
    {
     "data": {
      "image/png": "[encoded data removed]",
      "text/plain": [
       "<matplotlib.figure.Figure at 0x11c931150>"
      ]
     },
     "metadata": {},
     "output_type": "display_data"
    }
   ],
   "source": [
    "g = sns.factorplot(\"class\", col=\"odor\", data=df_forplot,\n",
    "                    kind=\"count\", size=2.5, aspect=.8, col_wrap=6)"
   ]
  },
  {
   "cell_type": "markdown",
   "metadata": {},
   "source": [
    "## Edibility by Gill Attachment\n",
    "### Gill attachment is not correlated to edibility"
   ]
  },
  {
   "cell_type": "code",
   "execution_count": 78,
   "metadata": {
    "collapsed": false,
    "scrolled": false
   },
   "outputs": [
    {
     "data": {
      "image/png": "[encoded data removed]",
      "text/plain": [
       "<matplotlib.figure.Figure at 0x11e2e6c50>"
      ]
     },
     "metadata": {},
     "output_type": "display_data"
    }
   ],
   "source": [
    "g = sns.factorplot(\"class\", col=\"gill-attachment\", data=df_forplot,\n",
    "                    kind=\"count\", size=2.5, aspect=.8, col_wrap=6)"
   ]
  },
  {
   "cell_type": "markdown",
   "metadata": {},
   "source": [
    "## Edibility by Gill Spacing\n",
    "### Gill Spacing is not correlated to edibility"
   ]
  },
  {
   "cell_type": "code",
   "execution_count": 79,
   "metadata": {
    "collapsed": false,
    "scrolled": false
   },
   "outputs": [
    {
     "data": {
      "image/png": "[encoded data removed]",
      "text/plain": [
       "<matplotlib.figure.Figure at 0x11dfeb990>"
      ]
     },
     "metadata": {},
     "output_type": "display_data"
    }
   ],
   "source": [
    "g = sns.factorplot(\"class\", col=\"gill-spacing\", data=df_forplot,\n",
    "                    kind=\"count\", size=2.5, aspect=.8, col_wrap=6)"
   ]
  },
  {
   "cell_type": "markdown",
   "metadata": {},
   "source": [
    "## Edibility by Gill Size\n",
    "### Gill Size is not correlated to edibility"
   ]
  },
  {
   "cell_type": "code",
   "execution_count": 80,
   "metadata": {
    "collapsed": false,
    "scrolled": false
   },
   "outputs": [
    {
     "data": {
      "image/png": "[encoded data removed]",
      "text/plain": [
       "<matplotlib.figure.Figure at 0x11dfc7310>"
      ]
     },
     "metadata": {},
     "output_type": "display_data"
    }
   ],
   "source": [
    "g = sns.factorplot(\"class\", col=\"gill-size\", data=df_forplot,\n",
    "                    kind=\"count\", size=2.5, aspect=.8, col_wrap=6)"
   ]
  },
  {
   "cell_type": "markdown",
   "metadata": {},
   "source": [
    "## Edibility by Gill Color\n",
    "### Buff=b colored gills are indicative of a poisonous classification"
   ]
  },
  {
   "cell_type": "code",
   "execution_count": 81,
   "metadata": {
    "collapsed": false,
    "scrolled": false
   },
   "outputs": [
    {
     "data": {
      "image/png": "[encoded data removed]",
      "text/plain": [
       "<matplotlib.figure.Figure at 0x11d22a310>"
      ]
     },
     "metadata": {},
     "output_type": "display_data"
    }
   ],
   "source": [
    "g = sns.factorplot(\"class\", col=\"gill-color\", data=df_forplot,\n",
    "                    kind=\"count\", size=2.5, aspect=.8, col_wrap=6)"
   ]
  },
  {
   "cell_type": "markdown",
   "metadata": {},
   "source": [
    "## Edibility by Stalk Shape\n",
    "### Stalk shape is not correlated to edibility"
   ]
  },
  {
   "cell_type": "code",
   "execution_count": 82,
   "metadata": {
    "collapsed": false,
    "scrolled": false
   },
   "outputs": [
    {
     "data": {
      "image/png": "[encoded data removed]",
      "text/plain": [
       "<matplotlib.figure.Figure at 0x11cccd290>"
      ]
     },
     "metadata": {},
     "output_type": "display_data"
    }
   ],
   "source": [
    "g = sns.factorplot(\"class\", col=\"stalk-shape\", data=df_forplot,\n",
    "                    kind=\"count\", size=2.5, aspect=.8, col_wrap=6)"
   ]
  },
  {
   "cell_type": "markdown",
   "metadata": {},
   "source": [
    "## Edibility by Stalk Root\n",
    "### R=rooted stalk roots are correlated to edibility"
   ]
  },
  {
   "cell_type": "code",
   "execution_count": 83,
   "metadata": {
    "collapsed": false,
    "scrolled": false
   },
   "outputs": [
    {
     "data": {
      "image/png": "[encoded data removed]",
      "text/plain": [
       "<matplotlib.figure.Figure at 0x11cd89f50>"
      ]
     },
     "metadata": {},
     "output_type": "display_data"
    }
   ],
   "source": [
    "g = sns.factorplot(\"class\", col=\"stalk-root\", data=df_forplot,\n",
    "                    kind=\"count\", size=2.5, aspect=.8, col_wrap=6)"
   ]
  },
  {
   "cell_type": "markdown",
   "metadata": {},
   "source": [
    "## Edibility by Stalk Surface Above Ring\n",
    "### There is weak correlation between K=silky and poisonous classification"
   ]
  },
  {
   "cell_type": "code",
   "execution_count": 84,
   "metadata": {
    "collapsed": false,
    "scrolled": false
   },
   "outputs": [
    {
     "data": {
      "image/png": "[encoded data removed]",
      "text/plain": [
       "<matplotlib.figure.Figure at 0x11cd897d0>"
      ]
     },
     "metadata": {},
     "output_type": "display_data"
    }
   ],
   "source": [
    "g = sns.factorplot(\"class\", col=\"stalk-surf-above-ring\", data=df_forplot,\n",
    "                    kind=\"count\", size=2.5, aspect=.8, col_wrap=6)"
   ]
  },
  {
   "cell_type": "markdown",
   "metadata": {},
   "source": [
    "## Let's get more details on this correlation using a correlation matrix"
   ]
  },
  {
   "cell_type": "code",
   "execution_count": 85,
   "metadata": {
    "collapsed": false,
    "scrolled": false
   },
   "outputs": [
    {
     "data": {
      "image/png": "[encoded data removed]",
      "text/plain": [
       "<matplotlib.figure.Figure at 0x11ce71050>"
      ]
     },
     "metadata": {},
     "output_type": "display_data"
    }
   ],
   "source": [
    "label = [\"edible\",\"poisonous\",\"fibrous=f\",\"scaly=y\",\"silky=k\",\"smooth=s\"]\n",
    "correlation_matrix(pd.get_dummies(df[[\"class\",\"stalk-surf-above-ring\"]]), label, 'Stalk Surface (Above Ring) Correlation')"
   ]
  },
  {
   "cell_type": "markdown",
   "metadata": {},
   "source": [
    "## Edibility by Stalk Surface Below Ring\n",
    "### There is weak correlation between K=silky and poisonous classification"
   ]
  },
  {
   "cell_type": "code",
   "execution_count": 86,
   "metadata": {
    "collapsed": false,
    "scrolled": false
   },
   "outputs": [
    {
     "data": {
      "image/png": "[encoded data removed]",
      "text/plain": [
       "<matplotlib.figure.Figure at 0x11d9c9990>"
      ]
     },
     "metadata": {},
     "output_type": "display_data"
    }
   ],
   "source": [
    "g = sns.factorplot(\"class\", col=\"stalk-surf-below-ring\", data=df_forplot,\n",
    "                    kind=\"count\", size=2.5, aspect=.8, col_wrap=6)"
   ]
  },
  {
   "cell_type": "markdown",
   "metadata": {},
   "source": [
    "## Edibility by Stalk Color Above Ring\n",
    "### . . ."
   ]
  },
  {
   "cell_type": "code",
   "execution_count": 87,
   "metadata": {
    "collapsed": false,
    "scrolled": false
   },
   "outputs": [
    {
     "data": {
      "image/png": "[encoded data removed]",
      "text/plain": [
       "<matplotlib.figure.Figure at 0x120219890>"
      ]
     },
     "metadata": {},
     "output_type": "display_data"
    }
   ],
   "source": [
    "g = sns.factorplot(\"class\", col=\"stalk-color-above-ring\", data=df_forplot,\n",
    "                    kind=\"count\", size=2.5, aspect=.8, col_wrap=6)"
   ]
  },
  {
   "cell_type": "markdown",
   "metadata": {},
   "source": [
    "## Edibility by Stalk Color Below Ring\n",
    "### . . ."
   ]
  },
  {
   "cell_type": "code",
   "execution_count": 88,
   "metadata": {
    "collapsed": false,
    "scrolled": false
   },
   "outputs": [
    {
     "data": {
      "image/png": "[encoded data removed]",
      "text/plain": [
       "<matplotlib.figure.Figure at 0x1192332d0>"
      ]
     },
     "metadata": {},
     "output_type": "display_data"
    }
   ],
   "source": [
    "g = sns.factorplot(\"class\", col=\"stalk-color-below-ring\", data=df_forplot,\n",
    "                    kind=\"count\", size=2.5, aspect=.8, col_wrap=6)"
   ]
  },
  {
   "cell_type": "markdown",
   "metadata": {},
   "source": [
    "## Edibility by Veil Type\n",
    "### Note, there is only one veil type, and the mushrooms are about evenly split between edible and poisonous"
   ]
  },
  {
   "cell_type": "code",
   "execution_count": 89,
   "metadata": {
    "collapsed": false
   },
   "outputs": [
    {
     "data": {
      "image/png": "[encoded data removed]",
      "text/plain": [
       "<matplotlib.figure.Figure at 0x11d101d10>"
      ]
     },
     "metadata": {},
     "output_type": "display_data"
    }
   ],
   "source": [
    "g = sns.factorplot(\"class\", col='veil-type', data=df_forplot,\n",
    "                    kind=\"count\", size=2.5, aspect=.8, col_wrap=6)"
   ]
  },
  {
   "cell_type": "markdown",
   "metadata": {},
   "source": [
    "### Distribution of Veil Type\n",
    "It looks like there's only one type of veil in our data set, so we can ignore that feature in our analysis!"
   ]
  },
  {
   "cell_type": "code",
   "execution_count": 90,
   "metadata": {
    "collapsed": false
   },
   "outputs": [
    {
     "data": {
      "text/plain": [
       "<matplotlib.axes._subplots.AxesSubplot at 0x11d5b54d0>"
      ]
     },
     "execution_count": 90,
     "metadata": {},
     "output_type": "execute_result"
    },
    {
     "data": {
      "image/png": "[encoded data removed]",
      "text/plain": [
       "<matplotlib.figure.Figure at 0x11cfa9c10>"
      ]
     },
     "metadata": {},
     "output_type": "display_data"
    }
   ],
   "source": [
    "# Distribution for veil-type\n",
    "from collections import Counter\n",
    "\n",
    "letter_counts = Counter(df[\"veil-type\"])\n",
    "df_forveil = pd.DataFrame.from_dict(letter_counts, orient='index')\n",
    "df_forveil.plot(kind=\"bar\")"
   ]
  },
  {
   "cell_type": "markdown",
   "metadata": {},
   "source": [
    "## Edibility by Veil Color\n",
    "### N=brown and O=orange veils seem to be correlated with edibility"
   ]
  },
  {
   "cell_type": "code",
   "execution_count": 91,
   "metadata": {
    "collapsed": false
   },
   "outputs": [
    {
     "data": {
      "image/png": "[encoded data removed]",
      "text/plain": [
       "<matplotlib.figure.Figure at 0x11cba7350>"
      ]
     },
     "metadata": {},
     "output_type": "display_data"
    }
   ],
   "source": [
    "g = sns.factorplot(\"class\", col='veil-color', data=df_forplot,\n",
    "                    kind=\"count\", size=2.5, aspect=.8, col_wrap=6)"
   ]
  },
  {
   "cell_type": "markdown",
   "metadata": {},
   "source": [
    "## Edibility by Ring Number\n",
    "### T=two rings indicate edibility"
   ]
  },
  {
   "cell_type": "code",
   "execution_count": 92,
   "metadata": {
    "collapsed": false
   },
   "outputs": [
    {
     "data": {
      "image/png": "[encoded data removed]",
      "text/plain": [
       "<matplotlib.figure.Figure at 0x11cba7c10>"
      ]
     },
     "metadata": {},
     "output_type": "display_data"
    }
   ],
   "source": [
    "g = sns.factorplot(\"class\", col='ring-number', data=df_forplot,\n",
    "                    kind=\"count\", size=2.5, aspect=.8, col_wrap=6)"
   ]
  },
  {
   "cell_type": "markdown",
   "metadata": {},
   "source": [
    "## Edibility by Ring Type\n",
    "### N=none are entirely poisonous, F=flaring are entirely edible, P=pendant tend to be edible"
   ]
  },
  {
   "cell_type": "code",
   "execution_count": 93,
   "metadata": {
    "collapsed": false
   },
   "outputs": [
    {
     "data": {
      "image/png": "[encoded data removed]",
      "text/plain": [
       "<matplotlib.figure.Figure at 0x11959c650>"
      ]
     },
     "metadata": {},
     "output_type": "display_data"
    }
   ],
   "source": [
    "g = sns.factorplot(\"class\", col='ring-type', data=df_forplot,\n",
    "                    kind=\"count\", size=2.5, aspect=.8, col_wrap=6)"
   ]
  },
  {
   "cell_type": "markdown",
   "metadata": {},
   "source": [
    "## Let's get more details on this correlation using a correlation matrix"
   ]
  },
  {
   "cell_type": "code",
   "execution_count": 94,
   "metadata": {
    "collapsed": false,
    "scrolled": false
   },
   "outputs": [
    {
     "data": {
      "image/png": "[encoded data removed]",
      "text/plain": [
       "<matplotlib.figure.Figure at 0x119535910>"
      ]
     },
     "metadata": {},
     "output_type": "display_data"
    }
   ],
   "source": [
    "label = [\"edible\",\"poisonous\",\"cobwebby=c\",\"evanescent=e\",\"flaring=f\",\"large=l\", \"none=n\",\"pendant=p\",\n",
    "         \"sheathing=s\",\"zone=z\"]\n",
    "correlation_matrix(pd.get_dummies(df[[\"class\",\"ring-type\"]]), label, 'Ring Type Correlation')"
   ]
  },
  {
   "cell_type": "markdown",
   "metadata": {},
   "source": [
    "## Edibility by Spore Color\n",
    "### IDK how to interpret this "
   ]
  },
  {
   "cell_type": "code",
   "execution_count": 95,
   "metadata": {
    "collapsed": false
   },
   "outputs": [
    {
     "data": {
      "image/png": "[encoded data removed]",
      "text/plain": [
       "<matplotlib.figure.Figure at 0x10e8f4c50>"
      ]
     },
     "metadata": {},
     "output_type": "display_data"
    }
   ],
   "source": [
    "g = sns.factorplot(\"class\", col='spore-color', data=df_forplot,\n",
    "                    kind=\"count\", size=2.5, aspect=.8, col_wrap=6)"
   ]
  },
  {
   "cell_type": "markdown",
   "metadata": {},
   "source": [
    "## Let's get more details on this correlation using a correlation matrix"
   ]
  },
  {
   "cell_type": "code",
   "execution_count": 96,
   "metadata": {
    "collapsed": false,
    "scrolled": false
   },
   "outputs": [
    {
     "data": {
      "image/png": "[encoded data removed]",
      "text/plain": [
       "<matplotlib.figure.Figure at 0x11c946090>"
      ]
     },
     "metadata": {},
     "output_type": "display_data"
    }
   ],
   "source": [
    "label = [\"edible\",\"poisonous\",\"black=k\",\"brown=n\",\"buff=b\",\"chocolate=h\",\"green=r\",\"orange=o\",\"purple=u\",\"white=w\",\n",
    "         \"yellow=y\"]\n",
    "correlation_matrix(pd.get_dummies(df[[\"class\",\"spore-color\"]]), label, 'Spore Print Color Correlation')"
   ]
  },
  {
   "cell_type": "markdown",
   "metadata": {},
   "source": [
    "## Edibility by Population\n",
    "### .... "
   ]
  },
  {
   "cell_type": "code",
   "execution_count": 97,
   "metadata": {
    "collapsed": false
   },
   "outputs": [
    {
     "data": {
      "image/png": "[encoded data removed]",
      "text/plain": [
       "<matplotlib.figure.Figure at 0x10e95f310>"
      ]
     },
     "metadata": {},
     "output_type": "display_data"
    }
   ],
   "source": [
    "g = sns.factorplot(\"class\", col='population', data=df_forplot,\n",
    "                    kind=\"count\", size=2.5, aspect=.8, col_wrap=6)"
   ]
  },
  {
   "cell_type": "markdown",
   "metadata": {},
   "source": [
    "## Edibility by Habitat\n",
    "### U=urban habitats are correlated to poisonous classification\n",
    "LaBarge found that L=leaves and G=grass habitats are correlated to edible classification, but our data does not support that conclusion"
   ]
  },
  {
   "cell_type": "code",
   "execution_count": 98,
   "metadata": {
    "collapsed": false
   },
   "outputs": [
    {
     "data": {
      "image/png": "[encoded data removed]",
      "text/plain": [
       "<matplotlib.figure.Figure at 0x11cd4e390>"
      ]
     },
     "metadata": {},
     "output_type": "display_data"
    }
   ],
   "source": [
    "g = sns.factorplot(\"class\", col='habitat', data=df_forplot,\n",
    "                    kind=\"count\", size=2.5, aspect=.8, col_wrap=6)"
   ]
  },
  {
   "cell_type": "markdown",
   "metadata": {},
   "source": [
    "## Let's get more details on this correlation using a correlation matrix"
   ]
  },
  {
   "cell_type": "code",
   "execution_count": 99,
   "metadata": {
    "collapsed": false,
    "scrolled": false
   },
   "outputs": [
    {
     "data": {
      "image/png": "[encoded data removed]",
      "text/plain": [
       "<matplotlib.figure.Figure at 0x11dbd5d90>"
      ]
     },
     "metadata": {},
     "output_type": "display_data"
    }
   ],
   "source": [
    "label = [\"edible\",\"poisonous\",\"grasses=g\",\"leaves=l\",\"meadows=m\",\"paths=p\", \"urban=u\",\"waste=w\",\"woods=d\" ]\n",
    "correlation_matrix(pd.get_dummies(df[[\"class\",\"population\"]]), label, 'Habitat Correlation')"
   ]
  },
  {
   "cell_type": "markdown",
   "metadata": {},
   "source": [
    "## Try out the Classifier on Different Feature Combinations"
   ]
  },
  {
   "cell_type": "code",
   "execution_count": 100,
   "metadata": {
    "collapsed": false,
    "scrolled": true
   },
   "outputs": [
    {
     "name": "stdout",
     "output_type": "stream",
     "text": [
      "('cap-shape', array(['b', 'c', 'f', 'k', 's', 'x'], dtype=object))\n",
      "('cap-surface', array(['f', 'g', 's', 'y'], dtype=object))\n",
      "('cap-color', array(['b', 'c', 'e', 'g', 'n', 'p', 'r', 'u', 'w', 'y'], dtype=object))\n",
      "('bruises', array(['f', 't'], dtype=object))\n",
      "('odor', array(['a', 'c', 'f', 'l', 'm', 'n', 'p', 's', 'y'], dtype=object))\n",
      "('gill-attachment', array(['a', 'f'], dtype=object))\n",
      "('gill-spacing', array(['c', 'w'], dtype=object))\n",
      "('gill-size', array(['b', 'n'], dtype=object))\n",
      "('gill-color', array(['b', 'e', 'g', 'h', 'k', 'n', 'o', 'p', 'r', 'u', 'w', 'y'], dtype=object))\n",
      "('stalk-shape', array(['e', 't'], dtype=object))\n",
      "('stalk-root', array(['?', 'b', 'c', 'e', 'r'], dtype=object))\n",
      "('stalk-surf-above-ring', array(['f', 'k', 's', 'y'], dtype=object))\n",
      "('stalk-surf-below-ring', array(['f', 'k', 's', 'y'], dtype=object))\n",
      "('stalk-color-above-ring', array(['b', 'c', 'e', 'g', 'n', 'o', 'p', 'w', 'y'], dtype=object))\n",
      "('stalk-color-below-ring', array(['b', 'c', 'e', 'g', 'n', 'o', 'p', 'w', 'y'], dtype=object))\n",
      "('veil-color', array(['n', 'o', 'w', 'y'], dtype=object))\n",
      "('ring-number', array(['n', 'o', 't'], dtype=object))\n",
      "('ring-type', array(['e', 'f', 'l', 'n', 'p'], dtype=object))\n",
      "('spore-color', array(['b', 'h', 'k', 'n', 'o', 'r', 'u', 'w', 'y'], dtype=object))\n",
      "('population', array(['a', 'c', 'n', 's', 'v', 'y'], dtype=object))\n",
      "('habitat', array(['d', 'g', 'l', 'm', 'p', 'u', 'w'], dtype=object))\n",
      "\n",
      "Example Feature Values - row 1 in X:\n",
      "cap-shape                 x\n",
      "cap-surface               s\n",
      "cap-color                 y\n",
      "bruises                   t\n",
      "odor                      a\n",
      "gill-attachment           f\n",
      "gill-spacing              c\n",
      "gill-size                 b\n",
      "gill-color                k\n",
      "stalk-shape               e\n",
      "stalk-root                c\n",
      "stalk-surf-above-ring     s\n",
      "stalk-surf-below-ring     s\n",
      "stalk-color-above-ring    w\n",
      "stalk-color-below-ring    w\n",
      "veil-color                w\n",
      "ring-number               o\n",
      "ring-type                 p\n",
      "spore-color               n\n",
      "population                n\n",
      "habitat                   g\n",
      "Name: 1, dtype: object\n",
      "\n",
      "Example Encoded Feature Values - row 1 in x:\n",
      "cap-shape                 5\n",
      "cap-surface               2\n",
      "cap-color                 9\n",
      "bruises                   1\n",
      "odor                      0\n",
      "gill-attachment           1\n",
      "gill-spacing              0\n",
      "gill-size                 0\n",
      "gill-color                4\n",
      "stalk-shape               0\n",
      "stalk-root                2\n",
      "stalk-surf-above-ring     2\n",
      "stalk-surf-below-ring     2\n",
      "stalk-color-above-ring    7\n",
      "stalk-color-below-ring    7\n",
      "veil-color                2\n",
      "ring-number               1\n",
      "ring-type                 4\n",
      "spore-color               3\n",
      "population                2\n",
      "habitat                   1\n",
      "Name: 1, dtype: int64\n",
      "\n",
      "Class Values (Y):\n",
      "['p' 'e' 'e' ..., 'e' 'p' 'e']\n",
      "\n",
      "Encoded Class Values (y):\n",
      "[1 0 0 ..., 0 1 0]\n"
     ]
    }
   ],
   "source": [
    "#drop extraneous features\n",
    "df = df.drop(\"veil-type\", 1)\n",
    "\n",
    "#put the features into X (everything except the 0th column)\n",
    "X = pd.DataFrame(df, columns=df.columns[1:len(df.columns)], index=df.index)\n",
    "\n",
    "#put the class values (0th column) into Y \n",
    "Y = df['class']\n",
    "\n",
    "#encode the text category labels as numeric\n",
    "from sklearn import preprocessing\n",
    "le = preprocessing.LabelEncoder()\n",
    "le.fit(Y)\n",
    "#print(le.classes_)\n",
    "#print(np.array(Y))\n",
    "#Y values now boolean values; poison = 1\n",
    "y = le.transform(Y)\n",
    "#print(y_train)\n",
    "\n",
    "#have to initialize or get error below\n",
    "x = pd.DataFrame(X,columns=[X.columns[0]])\n",
    "#encode each feature column and add it to x_train\n",
    "for colname in X.columns:\n",
    "    le.fit(X[colname])\n",
    "    print(colname, le.classes_)\n",
    "    x[colname] = le.transform(X[colname])\n",
    "\n",
    "print('\\nExample Feature Values - row 1 in X:')\n",
    "print(X.iloc[1])\n",
    "print('\\nExample Encoded Feature Values - row 1 in x:')\n",
    "print(x.iloc[1])\n",
    "print('\\nClass Values (Y):')\n",
    "print(np.array(Y))\n",
    "print('\\nEncoded Class Values (y):')\n",
    "print(y)"
   ]
  },
  {
   "cell_type": "markdown",
   "metadata": {},
   "source": [
    "### Classify:"
   ]
  },
  {
   "cell_type": "markdown",
   "metadata": {},
   "source": [
    "## NB run for original data set"
   ]
  },
  {
   "cell_type": "code",
   "execution_count": 36,
   "metadata": {
    "collapsed": false
   },
   "outputs": [
    {
     "name": "stdout",
     "output_type": "stream",
     "text": [
      "('Training accuracy:', 0.844329028635598)\n",
      "('Testing accuracy:', 0.85099999999999998)\n"
     ]
    }
   ],
   "source": [
    "#split the dataset into training and test sets\n",
    "from sklearn.model_selection import train_test_split\n",
    "x_train, x_test, y_train, y_test = train_test_split(x, y, test_size=1000, random_state=(42))\n",
    "\n",
    "#initialize and fit the naive bayes classifier\n",
    "from sklearn.naive_bayes import BernoulliNB\n",
    "skgnb = BernoulliNB(alpha=0.02)\n",
    "skgnb.fit(x_train,y_train)\n",
    "train_predict = skgnb.predict(x_train)\n",
    "#print(train_predict)\n",
    "\n",
    "#see how accurate the training data was fit\n",
    "from sklearn import metrics\n",
    "print(\"Training accuracy:\",metrics.accuracy_score(y_train, train_predict))\n",
    "\n",
    "#use the trained model to predict the test values\n",
    "test_predict = skgnb.predict(x_test)\n",
    "print(\"Testing accuracy:\",metrics.accuracy_score(y_test, test_predict))"
   ]
  },
  {
   "cell_type": "code",
   "execution_count": 37,
   "metadata": {
    "collapsed": false
   },
   "outputs": [
    {
     "name": "stdout",
     "output_type": "stream",
     "text": [
      "\n",
      "Classification Report:\n",
      "             precision    recall  f1-score   support\n",
      "\n",
      "     edible       0.80      0.95      0.87       527\n",
      "  poisonous       0.93      0.74      0.83       473\n",
      "\n",
      "avg / total       0.86      0.85      0.85      1000\n",
      "\n",
      "\n",
      "Confusion Matrix:\n",
      "           predicted-edible  predicted-poisonous\n",
      "actual                                          \n",
      "edible                  499                   28\n",
      "poisonous               121                  352\n",
      "('\\nScore (same thing as test accuracy?): ', 0.85099999999999998)\n"
     ]
    }
   ],
   "source": [
    "print(\"\\nClassification Report:\")\n",
    "print(metrics.classification_report(y_test, test_predict, target_names=['edible','poisonous']))\n",
    "print(\"\\nConfusion Matrix:\")\n",
    "skcm = metrics.confusion_matrix(y_test,test_predict)\n",
    "#putting it into a dataframe so it prints the labels\n",
    "skcm = pd.DataFrame(skcm, columns=['predicted-edible','predicted-poisonous'])\n",
    "skcm['actual'] = ['edible','poisonous']\n",
    "skcm = skcm.set_index('actual')\n",
    "\n",
    "#NOTE: NEED TO MAKE SURE I'M INTERPRETING THE ROWS & COLS RIGHT TO ASSIGN THESE LABELS!\n",
    "print(skcm)\n",
    "\n",
    "print(\"\\nScore (same thing as test accuracy?): \", skgnb.score(x_test,y_test))"
   ]
  },
  {
   "cell_type": "markdown",
   "metadata": {},
   "source": [
    "## NB run for first reduced data set (based on seed paper)"
   ]
  },
  {
   "cell_type": "code",
   "execution_count": 105,
   "metadata": {
    "collapsed": false
   },
   "outputs": [
    {
     "data": {
      "text/html": [
       "<div>\n",
       "<table border=\"1\" class=\"dataframe\">\n",
       "  <thead>\n",
       "    <tr style=\"text-align: right;\">\n",
       "      <th></th>\n",
       "      <th>class</th>\n",
       "      <th>odor</th>\n",
       "      <th>spore-color</th>\n",
       "      <th>stalk-surf-above-ring</th>\n",
       "      <th>stalk-color-above-ring</th>\n",
       "      <th>habitat</th>\n",
       "      <th>cap-color</th>\n",
       "    </tr>\n",
       "  </thead>\n",
       "  <tbody>\n",
       "    <tr>\n",
       "      <th>0</th>\n",
       "      <td>p</td>\n",
       "      <td>p</td>\n",
       "      <td>k</td>\n",
       "      <td>s</td>\n",
       "      <td>w</td>\n",
       "      <td>u</td>\n",
       "      <td>n</td>\n",
       "    </tr>\n",
       "    <tr>\n",
       "      <th>1</th>\n",
       "      <td>e</td>\n",
       "      <td>a</td>\n",
       "      <td>n</td>\n",
       "      <td>s</td>\n",
       "      <td>w</td>\n",
       "      <td>g</td>\n",
       "      <td>y</td>\n",
       "    </tr>\n",
       "    <tr>\n",
       "      <th>2</th>\n",
       "      <td>e</td>\n",
       "      <td>l</td>\n",
       "      <td>n</td>\n",
       "      <td>s</td>\n",
       "      <td>w</td>\n",
       "      <td>m</td>\n",
       "      <td>w</td>\n",
       "    </tr>\n",
       "    <tr>\n",
       "      <th>3</th>\n",
       "      <td>p</td>\n",
       "      <td>p</td>\n",
       "      <td>k</td>\n",
       "      <td>s</td>\n",
       "      <td>w</td>\n",
       "      <td>u</td>\n",
       "      <td>w</td>\n",
       "    </tr>\n",
       "    <tr>\n",
       "      <th>4</th>\n",
       "      <td>e</td>\n",
       "      <td>n</td>\n",
       "      <td>n</td>\n",
       "      <td>s</td>\n",
       "      <td>w</td>\n",
       "      <td>g</td>\n",
       "      <td>g</td>\n",
       "    </tr>\n",
       "  </tbody>\n",
       "</table>\n",
       "</div>"
      ],
      "text/plain": [
       "  class odor spore-color stalk-surf-above-ring stalk-color-above-ring habitat  \\\n",
       "0     p    p           k                     s                      w       u   \n",
       "1     e    a           n                     s                      w       g   \n",
       "2     e    l           n                     s                      w       m   \n",
       "3     p    p           k                     s                      w       u   \n",
       "4     e    n           n                     s                      w       g   \n",
       "\n",
       "  cap-color  \n",
       "0         n  \n",
       "1         y  \n",
       "2         w  \n",
       "3         w  \n",
       "4         g  "
      ]
     },
     "execution_count": 105,
     "metadata": {},
     "output_type": "execute_result"
    }
   ],
   "source": [
    "#drop extraneous features\n",
    "df_r1 = df.loc[:,('class','odor','spore-color','stalk-surf-above-ring','stalk-color-above-ring','habitat','cap-color')]\n",
    "\n",
    "df_r1.head()"
   ]
  },
  {
   "cell_type": "code",
   "execution_count": 108,
   "metadata": {
    "collapsed": false,
    "scrolled": true
   },
   "outputs": [
    {
     "name": "stdout",
     "output_type": "stream",
     "text": [
      "('odor', array(['a', 'c', 'f', 'l', 'm', 'n', 'p', 's', 'y'], dtype=object))\n",
      "('spore-color', array(['b', 'h', 'k', 'n', 'o', 'r', 'u', 'w', 'y'], dtype=object))\n",
      "('stalk-surf-above-ring', array(['f', 'k', 's', 'y'], dtype=object))\n",
      "('stalk-color-above-ring', array(['b', 'c', 'e', 'g', 'n', 'o', 'p', 'w', 'y'], dtype=object))\n",
      "('habitat', array(['d', 'g', 'l', 'm', 'p', 'u', 'w'], dtype=object))\n",
      "('cap-color', array(['b', 'c', 'e', 'g', 'n', 'p', 'r', 'u', 'w', 'y'], dtype=object))\n"
     ]
    }
   ],
   "source": [
    "#put the features into X (everything except the 0th column)\n",
    "X_r1 = pd.DataFrame(df_r1, columns=df_r1.columns[1:len(df_r1.columns)], index=df_r1.index)\n",
    "\n",
    "#put the class values (0th column) into Y \n",
    "Y_r1 = df_r1['class']\n",
    "\n",
    "#encode the text category labels as numeric\n",
    "from sklearn import preprocessing\n",
    "le = preprocessing.LabelEncoder()\n",
    "le.fit(Y_r1)\n",
    "#print(le.classes_)\n",
    "#print(np.array(Y))\n",
    "#Y values now boolean values; poison = 1\n",
    "y_r1 = le.transform(Y_r1)\n",
    "#print(y_train)\n",
    "\n",
    "#have to initialize or get error below\n",
    "x_r1 = pd.DataFrame(X_r1,columns=[X_r1.columns[0]])\n",
    "#encode each feature column and add it to x_train\n",
    "for colname in X_r1.columns:\n",
    "    le.fit(X_r1[colname])\n",
    "    print(colname, le.classes_)\n",
    "    x_r1[colname] = le.transform(X_r1[colname])"
   ]
  },
  {
   "cell_type": "code",
   "execution_count": 109,
   "metadata": {
    "collapsed": false
   },
   "outputs": [
    {
     "name": "stdout",
     "output_type": "stream",
     "text": [
      "('Training accuracy:', 0.6656372824256036)\n",
      "('Testing accuracy:', 0.64200000000000002)\n"
     ]
    }
   ],
   "source": [
    "#split the dataset into training and test sets\n",
    "from sklearn.model_selection import train_test_split\n",
    "x_train, x_test, y_train, y_test = train_test_split(x_r1, y_r1, test_size=1000, random_state=(42))\n",
    "\n",
    "#initialize and fit the naive bayes classifier\n",
    "from sklearn.naive_bayes import BernoulliNB\n",
    "skgnb = BernoulliNB(alpha=0.02)\n",
    "skgnb.fit(x_train,y_train)\n",
    "train_predict = skgnb.predict(x_train)\n",
    "#print(train_predict)\n",
    "\n",
    "#see how accurate the training data was fit\n",
    "from sklearn import metrics\n",
    "print(\"Training accuracy:\",metrics.accuracy_score(y_train, train_predict))\n",
    "\n",
    "#use the trained model to predict the test values\n",
    "test_predict = skgnb.predict(x_test)\n",
    "print(\"Testing accuracy:\",metrics.accuracy_score(y_test, test_predict))"
   ]
  },
  {
   "cell_type": "markdown",
   "metadata": {},
   "source": [
    "## NB run for second reduced data set (based on counts)"
   ]
  },
  {
   "cell_type": "code",
   "execution_count": 126,
   "metadata": {
    "collapsed": false
   },
   "outputs": [
    {
     "data": {
      "text/html": [
       "<div>\n",
       "<table border=\"1\" class=\"dataframe\">\n",
       "  <thead>\n",
       "    <tr style=\"text-align: right;\">\n",
       "      <th></th>\n",
       "      <th>class</th>\n",
       "      <th>odor</th>\n",
       "      <th>gill-color</th>\n",
       "      <th>stalk-root</th>\n",
       "      <th>stalk-color-above-ring</th>\n",
       "      <th>ring-type</th>\n",
       "      <th>spore-color</th>\n",
       "      <th>population</th>\n",
       "    </tr>\n",
       "  </thead>\n",
       "  <tbody>\n",
       "    <tr>\n",
       "      <th>0</th>\n",
       "      <td>p</td>\n",
       "      <td>p</td>\n",
       "      <td>k</td>\n",
       "      <td>e</td>\n",
       "      <td>w</td>\n",
       "      <td>p</td>\n",
       "      <td>k</td>\n",
       "      <td>s</td>\n",
       "    </tr>\n",
       "    <tr>\n",
       "      <th>1</th>\n",
       "      <td>e</td>\n",
       "      <td>a</td>\n",
       "      <td>k</td>\n",
       "      <td>c</td>\n",
       "      <td>w</td>\n",
       "      <td>p</td>\n",
       "      <td>n</td>\n",
       "      <td>n</td>\n",
       "    </tr>\n",
       "    <tr>\n",
       "      <th>2</th>\n",
       "      <td>e</td>\n",
       "      <td>l</td>\n",
       "      <td>n</td>\n",
       "      <td>c</td>\n",
       "      <td>w</td>\n",
       "      <td>p</td>\n",
       "      <td>n</td>\n",
       "      <td>n</td>\n",
       "    </tr>\n",
       "    <tr>\n",
       "      <th>3</th>\n",
       "      <td>p</td>\n",
       "      <td>p</td>\n",
       "      <td>n</td>\n",
       "      <td>e</td>\n",
       "      <td>w</td>\n",
       "      <td>p</td>\n",
       "      <td>k</td>\n",
       "      <td>s</td>\n",
       "    </tr>\n",
       "    <tr>\n",
       "      <th>4</th>\n",
       "      <td>e</td>\n",
       "      <td>n</td>\n",
       "      <td>k</td>\n",
       "      <td>e</td>\n",
       "      <td>w</td>\n",
       "      <td>e</td>\n",
       "      <td>n</td>\n",
       "      <td>a</td>\n",
       "    </tr>\n",
       "  </tbody>\n",
       "</table>\n",
       "</div>"
      ],
      "text/plain": [
       "  class odor gill-color stalk-root stalk-color-above-ring ring-type  \\\n",
       "0     p    p          k          e                      w         p   \n",
       "1     e    a          k          c                      w         p   \n",
       "2     e    l          n          c                      w         p   \n",
       "3     p    p          n          e                      w         p   \n",
       "4     e    n          k          e                      w         e   \n",
       "\n",
       "  spore-color population  \n",
       "0           k          s  \n",
       "1           n          n  \n",
       "2           n          n  \n",
       "3           k          s  \n",
       "4           n          a  "
      ]
     },
     "execution_count": 126,
     "metadata": {},
     "output_type": "execute_result"
    }
   ],
   "source": [
    "#drop extraneous features\n",
    "df_r2 = df.loc[:,('class','odor','gill-color','stalk-root','stalk-color-above-ring','ring-type','spore-color','population')]\n",
    "\n",
    "df_r2.head()"
   ]
  },
  {
   "cell_type": "code",
   "execution_count": 127,
   "metadata": {
    "collapsed": false
   },
   "outputs": [
    {
     "name": "stdout",
     "output_type": "stream",
     "text": [
      "('odor', array(['a', 'c', 'f', 'l', 'm', 'n', 'p', 's', 'y'], dtype=object))\n",
      "('gill-color', array(['b', 'e', 'g', 'h', 'k', 'n', 'o', 'p', 'r', 'u', 'w', 'y'], dtype=object))\n",
      "('stalk-root', array(['?', 'b', 'c', 'e', 'r'], dtype=object))\n",
      "('stalk-color-above-ring', array(['b', 'c', 'e', 'g', 'n', 'o', 'p', 'w', 'y'], dtype=object))\n",
      "('ring-type', array(['e', 'f', 'l', 'n', 'p'], dtype=object))\n",
      "('spore-color', array(['b', 'h', 'k', 'n', 'o', 'r', 'u', 'w', 'y'], dtype=object))\n",
      "('population', array(['a', 'c', 'n', 's', 'v', 'y'], dtype=object))\n"
     ]
    }
   ],
   "source": [
    "#put the features into X (everything except the 0th column)\n",
    "X_r2 = pd.DataFrame(df_r2, columns=df_r2.columns[1:len(df_r2.columns)], index=df_r2.index)\n",
    "\n",
    "#put the class values (0th column) into Y \n",
    "Y_r2 = df_r2['class']\n",
    "\n",
    "#encode the text category labels as numeric\n",
    "from sklearn import preprocessing\n",
    "le = preprocessing.LabelEncoder()\n",
    "le.fit(Y_r2)\n",
    "#print(le.classes_)\n",
    "#print(np.array(Y))\n",
    "#Y values now boolean values; poison = 1\n",
    "y_r2 = le.transform(Y_r2)\n",
    "#print(y_train)\n",
    "\n",
    "#have to initialize or get error below\n",
    "x_r2 = pd.DataFrame(X_r2,columns=[X_r2.columns[0]])\n",
    "#encode each feature column and add it to x_train\n",
    "for colname in X_r2.columns:\n",
    "    le.fit(X_r2[colname])\n",
    "    print(colname, le.classes_)\n",
    "    x_r2[colname] = le.transform(X_r2[colname])"
   ]
  },
  {
   "cell_type": "code",
   "execution_count": 128,
   "metadata": {
    "collapsed": false
   },
   "outputs": [
    {
     "name": "stdout",
     "output_type": "stream",
     "text": [
      "('Training accuracy:', 0.70381807973048849)\n",
      "('Testing accuracy:', 0.71399999999999997)\n"
     ]
    }
   ],
   "source": [
    "#split the dataset into training and test sets\n",
    "from sklearn.model_selection import train_test_split\n",
    "x_train, x_test, y_train, y_test = train_test_split(x_r2, y_r2, test_size=1000, random_state=(42))\n",
    "\n",
    "#initialize and fit the naive bayes classifier\n",
    "from sklearn.naive_bayes import BernoulliNB\n",
    "skgnb = BernoulliNB(alpha=0.02)\n",
    "skgnb.fit(x_train,y_train)\n",
    "train_predict = skgnb.predict(x_train)\n",
    "#print(train_predict)\n",
    "\n",
    "#see how accurate the training data was fit\n",
    "from sklearn import metrics\n",
    "print(\"Training accuracy:\",metrics.accuracy_score(y_train, train_predict))\n",
    "\n",
    "#use the trained model to predict the test values\n",
    "test_predict = skgnb.predict(x_test)\n",
    "print(\"Testing accuracy:\",metrics.accuracy_score(y_test, test_predict))"
   ]
  },
  {
   "cell_type": "markdown",
   "metadata": {},
   "source": [
    "## NB run for third reduced data set (based on correlation matrices)"
   ]
  },
  {
   "cell_type": "code",
   "execution_count": 129,
   "metadata": {
    "collapsed": false
   },
   "outputs": [
    {
     "data": {
      "text/html": [
       "<div>\n",
       "<table border=\"1\" class=\"dataframe\">\n",
       "  <thead>\n",
       "    <tr style=\"text-align: right;\">\n",
       "      <th></th>\n",
       "      <th>class</th>\n",
       "      <th>bruises</th>\n",
       "      <th>gill-size</th>\n",
       "      <th>gill-color</th>\n",
       "      <th>stalk-surf-above-ring</th>\n",
       "      <th>ring-type</th>\n",
       "      <th>spore-color</th>\n",
       "      <th>population</th>\n",
       "      <th>habitat</th>\n",
       "    </tr>\n",
       "  </thead>\n",
       "  <tbody>\n",
       "    <tr>\n",
       "      <th>0</th>\n",
       "      <td>p</td>\n",
       "      <td>t</td>\n",
       "      <td>n</td>\n",
       "      <td>k</td>\n",
       "      <td>s</td>\n",
       "      <td>p</td>\n",
       "      <td>k</td>\n",
       "      <td>s</td>\n",
       "      <td>u</td>\n",
       "    </tr>\n",
       "    <tr>\n",
       "      <th>1</th>\n",
       "      <td>e</td>\n",
       "      <td>t</td>\n",
       "      <td>b</td>\n",
       "      <td>k</td>\n",
       "      <td>s</td>\n",
       "      <td>p</td>\n",
       "      <td>n</td>\n",
       "      <td>n</td>\n",
       "      <td>g</td>\n",
       "    </tr>\n",
       "    <tr>\n",
       "      <th>2</th>\n",
       "      <td>e</td>\n",
       "      <td>t</td>\n",
       "      <td>b</td>\n",
       "      <td>n</td>\n",
       "      <td>s</td>\n",
       "      <td>p</td>\n",
       "      <td>n</td>\n",
       "      <td>n</td>\n",
       "      <td>m</td>\n",
       "    </tr>\n",
       "    <tr>\n",
       "      <th>3</th>\n",
       "      <td>p</td>\n",
       "      <td>t</td>\n",
       "      <td>n</td>\n",
       "      <td>n</td>\n",
       "      <td>s</td>\n",
       "      <td>p</td>\n",
       "      <td>k</td>\n",
       "      <td>s</td>\n",
       "      <td>u</td>\n",
       "    </tr>\n",
       "    <tr>\n",
       "      <th>4</th>\n",
       "      <td>e</td>\n",
       "      <td>f</td>\n",
       "      <td>b</td>\n",
       "      <td>k</td>\n",
       "      <td>s</td>\n",
       "      <td>e</td>\n",
       "      <td>n</td>\n",
       "      <td>a</td>\n",
       "      <td>g</td>\n",
       "    </tr>\n",
       "  </tbody>\n",
       "</table>\n",
       "</div>"
      ],
      "text/plain": [
       "  class bruises gill-size gill-color stalk-surf-above-ring ring-type  \\\n",
       "0     p       t         n          k                     s         p   \n",
       "1     e       t         b          k                     s         p   \n",
       "2     e       t         b          n                     s         p   \n",
       "3     p       t         n          n                     s         p   \n",
       "4     e       f         b          k                     s         e   \n",
       "\n",
       "  spore-color population habitat  \n",
       "0           k          s       u  \n",
       "1           n          n       g  \n",
       "2           n          n       m  \n",
       "3           k          s       u  \n",
       "4           n          a       g  "
      ]
     },
     "execution_count": 129,
     "metadata": {},
     "output_type": "execute_result"
    }
   ],
   "source": [
    "#drop extraneous features\n",
    "df_r3 = df.loc[:,('class','bruises','gill-size','gill-color','stalk-surf-above-ring','ring-type','spore-color','population','habitat')]\n",
    "\n",
    "df_r3.head()"
   ]
  },
  {
   "cell_type": "code",
   "execution_count": 130,
   "metadata": {
    "collapsed": false
   },
   "outputs": [
    {
     "name": "stdout",
     "output_type": "stream",
     "text": [
      "('bruises', array(['f', 't'], dtype=object))\n",
      "('gill-size', array(['b', 'n'], dtype=object))\n",
      "('gill-color', array(['b', 'e', 'g', 'h', 'k', 'n', 'o', 'p', 'r', 'u', 'w', 'y'], dtype=object))\n",
      "('stalk-surf-above-ring', array(['f', 'k', 's', 'y'], dtype=object))\n",
      "('ring-type', array(['e', 'f', 'l', 'n', 'p'], dtype=object))\n",
      "('spore-color', array(['b', 'h', 'k', 'n', 'o', 'r', 'u', 'w', 'y'], dtype=object))\n",
      "('population', array(['a', 'c', 'n', 's', 'v', 'y'], dtype=object))\n",
      "('habitat', array(['d', 'g', 'l', 'm', 'p', 'u', 'w'], dtype=object))\n"
     ]
    }
   ],
   "source": [
    "#put the features into X (everything except the 0th column)\n",
    "X_r3 = pd.DataFrame(df_r3, columns=df_r3.columns[1:len(df_r3.columns)], index=df_r3.index)\n",
    "\n",
    "#put the class values (0th column) into Y \n",
    "Y_r3 = df_r3['class']\n",
    "\n",
    "#encode the text category labels as numeric\n",
    "from sklearn import preprocessing\n",
    "le = preprocessing.LabelEncoder()\n",
    "le.fit(Y_r3)\n",
    "#print(le.classes_)\n",
    "#print(np.array(Y))\n",
    "#Y values now boolean values; poison = 1\n",
    "y_r3 = le.transform(Y_r3)\n",
    "#print(y_train)\n",
    "\n",
    "#have to initialize or get error below\n",
    "x_r3 = pd.DataFrame(X_r3,columns=[X_r3.columns[0]])\n",
    "#encode each feature column and add it to x_train\n",
    "for colname in X_r3.columns:\n",
    "    le.fit(X_r3[colname])\n",
    "    print(colname, le.classes_)\n",
    "    x_r3[colname] = le.transform(X_r3[colname])"
   ]
  },
  {
   "cell_type": "code",
   "execution_count": 131,
   "metadata": {
    "collapsed": false
   },
   "outputs": [
    {
     "name": "stdout",
     "output_type": "stream",
     "text": [
      "('Training accuracy:', 0.74564851207186977)\n",
      "('Testing accuracy:', 0.73599999999999999)\n"
     ]
    }
   ],
   "source": [
    "#split the dataset into training and test sets\n",
    "from sklearn.model_selection import train_test_split\n",
    "x_train, x_test, y_train, y_test = train_test_split(x_r3, y_r3, test_size=1000, random_state=(42))\n",
    "\n",
    "#initialize and fit the naive bayes classifier\n",
    "from sklearn.naive_bayes import BernoulliNB\n",
    "skgnb = BernoulliNB(alpha=0.02)\n",
    "skgnb.fit(x_train,y_train)\n",
    "train_predict = skgnb.predict(x_train)\n",
    "#print(train_predict)\n",
    "\n",
    "#see how accurate the training data was fit\n",
    "from sklearn import metrics\n",
    "print(\"Training accuracy:\",metrics.accuracy_score(y_train, train_predict))\n",
    "\n",
    "#use the trained model to predict the test values\n",
    "test_predict = skgnb.predict(x_test)\n",
    "print(\"Testing accuracy:\",metrics.accuracy_score(y_test, test_predict))"
   ]
  },
  {
   "cell_type": "markdown",
   "metadata": {},
   "source": [
    "## Graph comparing testing accuracies of original data set and all 3 reduced sets"
   ]
  },
  {
   "cell_type": "code",
   "execution_count": 172,
   "metadata": {
    "collapsed": false
   },
   "outputs": [
    {
     "data": {
      "image/png": "[encoded data removed]",
      "text/plain": [
       "<matplotlib.figure.Figure at 0x11cbc9210>"
      ]
     },
     "metadata": {},
     "output_type": "display_data"
    }
   ],
   "source": [
    "N = 1\n",
    "ind = np.arange(N)  # the x locations for the groups\n",
    "width = 0.1       # the width of the bars\n",
    "fig, ax = plt.subplots()\n",
    "\n",
    "r0_values = (.851)\n",
    "rects0 = ax.bar(ind, r0_values, width, color='g')\n",
    "\n",
    "r1_values = (.624)\n",
    "rects1 = ax.bar(ind + width, r1_values, width, color='r')\n",
    "\n",
    "r2_values = (.714)\n",
    "rects2 = ax.bar(ind + width + width, r2_values, width, color='y')\n",
    "\n",
    "r3_values = (.736)\n",
    "rects3 = ax.bar(ind + width + width + width, r3_values, width, color='b')\n",
    "\n",
    "\n",
    "# add some text for labels, title and axes ticks\n",
    "ax.set_ylabel('Percentage')\n",
    "ax.set_title('Accuracy for Reduced Data Sets')\n",
    "ax.set_xticks(ind + width / 4)\n",
    "ax.set_xticklabels(('Accuracy', 'Accuracy'))\n",
    "\n",
    "ax.legend((rects0[0],rects1[0], rects2[0], rects3[0]),('original set','reduced set 1', 'reduced set 2', 'reduced set 3'))\n",
    "\n",
    "    \n",
    "plt.show()"
   ]
  },
  {
   "cell_type": "markdown",
   "metadata": {},
   "source": [
    "## Graph of Accuracy, Precision, and Recall for Naive Bayes (orig. set) and Decision Tree"
   ]
  },
  {
   "cell_type": "code",
   "execution_count": 143,
   "metadata": {
    "collapsed": false
   },
   "outputs": [
    {
     "data": {
      "image/png": "[encoded data removed]",
      "text/plain": [
       "<matplotlib.figure.Figure at 0x11d24ce10>"
      ]
     },
     "metadata": {},
     "output_type": "display_data"
    }
   ],
   "source": [
    "N = 3\n",
    "nb_values = (.85, .86, .85)\n",
    "\n",
    "\n",
    "ind = np.arange(N)  # the x locations for the groups\n",
    "width = 0.35       # the width of the bars\n",
    "\n",
    "fig, ax = plt.subplots()\n",
    "rects1 = ax.bar(ind, nb_values, width, color='r')\n",
    "\n",
    "dt_values = (.99, .99, .99)\n",
    "rects2 = ax.bar(ind + width, dt_values, width, color='y')\n",
    "\n",
    "# add some text for labels, title and axes ticks\n",
    "ax.set_ylabel('Percentage')\n",
    "ax.set_title('Accuracy, Precision, and Recall by Algorithm')\n",
    "ax.set_xticks(ind + width / 2)\n",
    "ax.set_xticklabels(('Accuracy', 'Precision', 'Recall'))\n",
    "\n",
    "ax.legend((rects1[0], rects2[0]),('Naive Bayes', 'Decision Tree'))\n",
    "\n",
    "plt.show()"
   ]
  },
  {
   "cell_type": "code",
   "execution_count": 48,
   "metadata": {
    "collapsed": false
   },
   "outputs": [
    {
     "data": {
      "image/png": "[encoded data removed]",
      "text/plain": [
       "<matplotlib.figure.Figure at 0x10e8f4ad0>"
      ]
     },
     "metadata": {},
     "output_type": "display_data"
    }
   ],
   "source": [
    "#graph of alphas and corresponding accuracies\n",
    "a = [.005,.01,.02,.04,.08,.1,.2,.5]\n",
    "b = [.8498,.8479,.8726,.872,.8265,.8511,.8406,.8302]\n",
    "\n",
    "plt.xlabel('Alpha Used')\n",
    "plt.ylabel('Testing Accuracy')\n",
    "plt.plot(a, b)\n",
    "plt.show()"
   ]
  },
  {
   "cell_type": "markdown",
   "metadata": {},
   "source": [
    "We can see that we get our best accuracy with a smaller alpha, approximately 0.02"
   ]
  },
  {
   "cell_type": "code",
   "execution_count": 123,
   "metadata": {
    "collapsed": false,
    "scrolled": true
   },
   "outputs": [
    {
     "name": "stdout",
     "output_type": "stream",
     "text": [
      "5-Fold Cross Validation Accuracy: 0.76 (+/- 0.30)\n"
     ]
    }
   ],
   "source": [
    "from sklearn.model_selection import cross_val_score\n",
    "from sklearn import svm\n",
    "\n",
    "#5-fold cross validation\n",
    "skgnb = BernoulliNB(alpha=0.02)\n",
    "skgnb.fit(x_train,y_train)\n",
    "scores = cross_val_score(skgnb, x, y, cv=5)\n",
    "\n",
    "print(\"5-Fold Cross Validation Accuracy: %0.2f (+/- %0.2f)\" % (scores.mean(), scores.std() * 2))"
   ]
  },
  {
   "cell_type": "code",
   "execution_count": 124,
   "metadata": {
    "collapsed": false
   },
   "outputs": [
    {
     "name": "stdout",
     "output_type": "stream",
     "text": [
      "7-Fold Cross Validation Accuracy: 0.78 (+/- 0.21)\n"
     ]
    }
   ],
   "source": [
    "#7-fold cross validation\n",
    "#clf = svm.SVC(kernel='linear', C=1)\n",
    "scores = cross_val_score(skgnb, x, y, cv=7)\n",
    "\n",
    "print(\"7-Fold Cross Validation Accuracy: %0.2f (+/- %0.2f)\" % (scores.mean(), scores.std() * 2))"
   ]
  },
  {
   "cell_type": "code",
   "execution_count": 125,
   "metadata": {
    "collapsed": false,
    "scrolled": true
   },
   "outputs": [
    {
     "name": "stdout",
     "output_type": "stream",
     "text": [
      "10-Fold Cross Validation Accuracy: 0.81 (+/- 0.22)\n"
     ]
    }
   ],
   "source": [
    "#10-fold cross validation\n",
    "#clf = svm.SVC(kernel='linear', C=1)\n",
    "scores = cross_val_score(skgnb, x, y, cv=10)\n",
    "\n",
    "print(\"10-Fold Cross Validation Accuracy: %0.2f (+/- %0.2f)\" % (scores.mean(), scores.std() * 2))"
   ]
  },
  {
   "cell_type": "markdown",
   "metadata": {},
   "source": [
    "# Comparison: Decision Tree\n"
   ]
  },
  {
   "cell_type": "markdown",
   "metadata": {},
   "source": [
    "insert here description of decision tree\n"
   ]
  },
  {
   "cell_type": "code",
   "execution_count": 112,
   "metadata": {
    "collapsed": false
   },
   "outputs": [
    {
     "name": "stderr",
     "output_type": "stream",
     "text": [
      "/Users/tiffanypalmer/anaconda/lib/python2.7/site-packages/sklearn/cross_validation.py:44: DeprecationWarning: This module was deprecated in version 0.18 in favor of the model_selection module into which all the refactored classes and functions are moved. Also note that the interface of the new CV iterators are different from that of this module. This module will be removed in 0.20.\n",
      "  \"This module will be removed in 0.20.\", DeprecationWarning)\n"
     ]
    }
   ],
   "source": [
    "from sklearn import tree\n",
    "from sklearn.cross_validation import train_test_split\n",
    "from sklearn.tree import DecisionTreeClassifier, export_graphviz\n",
    "from sklearn.metrics import accuracy_score\n",
    "import sklearn.metrics as metrics\n",
    "from sklearn import model_selection"
   ]
  },
  {
   "cell_type": "code",
   "execution_count": 113,
   "metadata": {
    "collapsed": true
   },
   "outputs": [],
   "source": [
    "shroom = pd.read_csv(\"data.csv\", index_col='index')\n",
    "Y = shroom['classification']\n",
    "X = shroom[shroom.columns[1:]]\n",
    "X_dummy = pd.get_dummies(X)\n",
    "Y_dummy = Y.apply(lambda x: 1 if x=='e' else 0)\n",
    "X_train = X_dummy[:7000]\n",
    "X_test = X_dummy[7000:]\n",
    "Y_train = Y_dummy[:7000]\n",
    "T_test = Y_dummy[7000:]\n",
    "clf = tree.DecisionTreeClassifier(random_state=42)\n",
    "#X_test, Y_test, clf = train_model()\n",
    "clf = clf.fit(X_train, Y_train)"
   ]
  },
  {
   "cell_type": "code",
   "execution_count": 114,
   "metadata": {
    "collapsed": false
   },
   "outputs": [
    {
     "name": "stdout",
     "output_type": "stream",
     "text": [
      "\n",
      "Precision Report:\n",
      "0.999949695026\n",
      "\n",
      "Accuracy Report:\n",
      "0.999900461642\n",
      "1.0\n"
     ]
    }
   ],
   "source": [
    "sizes = np.arange(0.9,0.01, -0.02)\n",
    "#sizes is an array\n",
    "result = {}\n",
    "totalprecision = 0\n",
    "totalaccuracy = 0\n",
    "for size in sizes:\n",
    "    X_train, X_test, Y_train, Y_test = model_selection.train_test_split(\n",
    "        X_dummy, Y_dummy, test_size=size, random_state=42)\n",
    "    clf = tree.DecisionTreeClassifier(random_state=42)\n",
    "    clf = clf.fit(X_train, Y_train)\n",
    "    score     = clf.score(X_test, Y_test)\n",
    "    precision = metrics.precision_score(Y_test, clf.predict(X_test))\n",
    "    totalprecision+=precision\n",
    "    accuracy = metrics.accuracy_score(Y_test, clf.predict(X_test))\n",
    "    totalaccuracy+=accuracy\n",
    "    recall    = metrics.recall_score(Y_test, clf.predict(X_test))\n",
    "    result[len(Y_train)] = (score, precision, recall)\n",
    "    \n",
    "    \n",
    "print(\"\\nPrecision Report:\")\n",
    "print(totalprecision/len(sizes))\n",
    "print(\"\\nAccuracy Report:\")\n",
    "print(totalaccuracy/len(sizes))\n",
    "\n",
    "precision1 = metrics.precision_score(Y_test, clf.predict(X_test))\n",
    "print(precision1)"
   ]
  },
  {
   "cell_type": "code",
   "execution_count": 115,
   "metadata": {
    "collapsed": false
   },
   "outputs": [
    {
     "data": {
      "image/png": "[encoded data removed]",
      "text/plain": [
       "<matplotlib.figure.Figure at 0x11da00450>"
      ]
     },
     "metadata": {},
     "output_type": "display_data"
    }
   ],
   "source": [
    "result = pd.DataFrame(result).transpose()\n",
    "result.columns = ['Accuracy', 'Precision', 'Recall']\n",
    "result.plot(marker='*', figsize=(15,5))\n",
    "plt.title('Metrics measures using random train/test splitting')\n",
    "plt.xlabel('Size of training set')\n",
    "plt.ylabel('Value');\n"
   ]
  },
  {
   "cell_type": "markdown",
   "metadata": {
    "collapsed": true
   },
   "source": [
    "# K Fold Cross Validation For Decision Tree\n"
   ]
  },
  {
   "cell_type": "code",
   "execution_count": 120,
   "metadata": {
    "collapsed": false
   },
   "outputs": [
    {
     "name": "stdout",
     "output_type": "stream",
     "text": [
      "5-Fold Cross Validation Accuracy: 1.00 (+/- 0.01)\n"
     ]
    }
   ],
   "source": [
    "from sklearn.model_selection import cross_val_score\n",
    "from sklearn import svm\n",
    "clf = tree.DecisionTreeClassifier(random_state=42)\n",
    "#X_test, Y_test, clf = train_model()\n",
    "clf = clf.fit(X_train, Y_train)\n",
    "scores = cross_val_score(clf, X_dummy, Y_dummy, cv=5)\n",
    "\n",
    "print(\"5-Fold Cross Validation Accuracy: %0.2f (+/- %0.2f)\" % (scores.mean(), scores.std() * 2))"
   ]
  },
  {
   "cell_type": "code",
   "execution_count": 121,
   "metadata": {
    "collapsed": false
   },
   "outputs": [
    {
     "name": "stdout",
     "output_type": "stream",
     "text": [
      "7-Fold Cross Validation Accuracy: 0.97 (+/- 0.14)\n"
     ]
    }
   ],
   "source": [
    "#clf = svm.SVC(kernel='linear', C=1)\n",
    "scores = cross_val_score(clf, X_dummy, Y_dummy, cv=7)\n",
    "\n",
    "print(\"7-Fold Cross Validation Accuracy: %0.2f (+/- %0.2f)\" % (scores.mean(), scores.std() * 2))"
   ]
  },
  {
   "cell_type": "code",
   "execution_count": 122,
   "metadata": {
    "collapsed": false
   },
   "outputs": [
    {
     "name": "stdout",
     "output_type": "stream",
     "text": [
      "10-Fold Cross Validation Accuracy: 0.96 (+/- 0.19)\n"
     ]
    }
   ],
   "source": [
    "#clf = svm.SVC(kernel='linear', C=1)\n",
    "scores = cross_val_score(clf, X_dummy, Y_dummy, cv=10)\n",
    "\n",
    "print(\"10-Fold Cross Validation Accuracy: %0.2f (+/- %0.2f)\" % (scores.mean(), scores.std() * 2))"
   ]
  },
  {
   "cell_type": "code",
   "execution_count": 36,
   "metadata": {
    "collapsed": false
   },
   "outputs": [
    {
     "data": {
      "image/png": "[encoded data removed]",
      "text/plain": [
       "<matplotlib.figure.Figure at 0x11ed85b10>"
      ]
     },
     "metadata": {},
     "output_type": "display_data"
    }
   ],
   "source": [
    "b = [.94, .96, .98]\n",
    "a = [5, 7, 10]\n",
    "plt.xlabel('K Fold')\n",
    "plt.ylabel('Accuracy')\n",
    "plt.plot(a, b)\n",
    "plt.show()"
   ]
  },
  {
   "cell_type": "code",
   "execution_count": 110,
   "metadata": {
    "collapsed": false
   },
   "outputs": [
    {
     "ename": "NameError",
     "evalue": "name 'svm' is not defined",
     "output_type": "error",
     "traceback": [
      "\u001b[0;31m---------------------------------------------------------------------------\u001b[0m",
      "\u001b[0;31mNameError\u001b[0m                                 Traceback (most recent call last)",
      "\u001b[0;32m<ipython-input-110-bb2cc5bf8b78>\u001b[0m in \u001b[0;36m<module>\u001b[0;34m()\u001b[0m\n\u001b[0;32m----> 1\u001b[0;31m \u001b[0mclf\u001b[0m \u001b[0;34m=\u001b[0m \u001b[0msvm\u001b[0m\u001b[0;34m.\u001b[0m\u001b[0mSVC\u001b[0m\u001b[0;34m(\u001b[0m\u001b[0mkernel\u001b[0m\u001b[0;34m=\u001b[0m\u001b[0;34m'linear'\u001b[0m\u001b[0;34m,\u001b[0m \u001b[0mC\u001b[0m\u001b[0;34m=\u001b[0m\u001b[0;36m1\u001b[0m\u001b[0;34m)\u001b[0m\u001b[0;34m\u001b[0m\u001b[0m\n\u001b[0m\u001b[1;32m      2\u001b[0m \u001b[0mscores\u001b[0m \u001b[0;34m=\u001b[0m \u001b[0mcross_val_score\u001b[0m\u001b[0;34m(\u001b[0m\u001b[0mclf\u001b[0m\u001b[0;34m,\u001b[0m \u001b[0mx_r1\u001b[0m\u001b[0;34m,\u001b[0m \u001b[0my_r1\u001b[0m\u001b[0;34m,\u001b[0m \u001b[0mcv\u001b[0m\u001b[0;34m=\u001b[0m\u001b[0;36m5\u001b[0m\u001b[0;34m)\u001b[0m\u001b[0;34m\u001b[0m\u001b[0m\n",
      "\u001b[0;31mNameError\u001b[0m: name 'svm' is not defined"
     ]
    }
   ],
   "source": [
    "clf = svm.SVC(kernel='linear', C=1)\n",
    "scores = cross_val_score(clf, x_r1, y_r1, cv=5)"
   ]
  },
  {
   "cell_type": "code",
   "execution_count": null,
   "metadata": {
    "collapsed": true
   },
   "outputs": [],
   "source": []
  }
 ],
 "metadata": {
  "kernelspec": {
   "display_name": "Python 2",
   "language": "python",
   "name": "python2"
  },
  "language_info": {
   "codemirror_mode": {
    "name": "ipython",
    "version": 2
   },
   "file_extension": ".py",
   "mimetype": "text/x-python",
   "name": "python",
   "nbconvert_exporter": "python",
   "pygments_lexer": "ipython2",
   "version": "2.7.13"
  }
 },
 "nbformat": 4,
 "nbformat_minor": 2
}
