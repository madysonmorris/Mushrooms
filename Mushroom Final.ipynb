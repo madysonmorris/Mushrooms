{
 "cells": [
  {
   "cell_type": "markdown",
   "metadata": {},
   "source": [
    "# Mushrooms!\n",
    " * CSCI 183, Spring 2017 \n",
    " * Erin Gates, Madyson Morris, Tiffany Palmer \n",
    "\n",
    "\"Leaves of three, let me be\" helps you stay away poison oak, but how do you avoid poison mushrooms?\n",
    "\n",
    "In seeking to answer this question, we analyzed data on various poisous and edible mushrooms and compared the  accuracies of various classification algorithms."
   ]
  },
  {
   "cell_type": "code",
   "execution_count": 103,
   "metadata": {},
   "outputs": [
    {
     "name": "stdout",
     "output_type": "stream",
     "text": [
      "pandas version 0.20.1\n",
      "numpy version 1.12.1\n",
      "sk-learn version 0.18.1\n",
      "seaborn version 0.7.1\n"
     ]
    }
   ],
   "source": [
    "#import pandas and numpy libraries\n",
    "import pandas as pd\n",
    "import numpy as np\n",
    "\n",
    "#import bernoulli naive bayes from scikit-learn\n",
    "import sklearn as sk\n",
    "#seaborn for pretty plots\n",
    "import seaborn as sns\n",
    "\n",
    "#display versions of python and packages\n",
    "\n",
    "print('pandas version ' + pd.__version__)\n",
    "print('numpy version ' + np.__version__)\n",
    "print('sk-learn version ' + sk.__version__)\n",
    "print('seaborn version ' + sns.__version__)"
   ]
  },
  {
   "cell_type": "code",
   "execution_count": 104,
   "metadata": {},
   "outputs": [
    {
     "name": "stdout",
     "output_type": "stream",
     "text": [
      "     0  1  2  3  4  5  6  7  8  9  10 11 12 13 14 15 16 17 18 19 20 21 22\n",
      "6561  p  f  s  n  f  f  f  c  n  b  t  ?  s  k  w  p  p  w  o  e  w  v  d\n",
      "4975  p  f  y  y  f  f  f  c  b  h  e  b  k  k  b  b  p  w  o  l  h  v  d\n",
      "6967  e  b  s  n  f  n  f  c  b  w  e  b  y  y  n  n  p  w  t  p  w  y  d\n",
      "7657  p  x  s  e  f  f  f  c  n  b  t  ?  k  k  p  w  p  w  o  e  w  v  l\n",
      "4907  p  f  f  g  f  f  f  c  b  h  e  b  k  k  b  n  p  w  o  l  h  y  d\n"
     ]
    }
   ],
   "source": [
    "#read in data. it's comma-separated with no column names.\n",
    "df = pd.read_csv('agaricus-lepiota.txt', sep=',', header=None,\n",
    "                 error_bad_lines=False, warn_bad_lines=True, low_memory=False)\n",
    "# set pandas to output all of the columns in output\n",
    "pd.options.display.max_columns = 25\n",
    "#show the first 5 rows\n",
    "print(df.sample(n=5))"
   ]
  },
  {
   "cell_type": "code",
   "execution_count": 105,
   "metadata": {},
   "outputs": [
    {
     "name": "stdout",
     "output_type": "stream",
     "text": [
      "Example values:\n",
      "\n",
      "class                     e\n",
      "cap-shape                 x\n",
      "cap-surface               y\n",
      "cap-color                 b\n",
      "bruises                   t\n",
      "odor                      n\n",
      "gill-attachment           f\n",
      "gill-spacing              c\n",
      "gill-size                 b\n",
      "gill-color                e\n",
      "stalk-shape               e\n",
      "stalk-root                ?\n",
      "stalk-surf-above-ring     s\n",
      "stalk-surf-below-ring     s\n",
      "stalk-color-above-ring    e\n",
      "stalk-color-below-ring    w\n",
      "veil-type                 p\n",
      "veil-color                w\n",
      "ring-number               t\n",
      "ring-type                 e\n",
      "spore-color               w\n",
      "population                c\n",
      "habitat                   w\n",
      "Name: 3984, dtype: object\n"
     ]
    }
   ],
   "source": [
    "#manually add column names from documentation (1st col is class: e=edible,p=poisonous; rest are attributes)\n",
    "df.columns = ['class','cap-shape','cap-surface','cap-color','bruises','odor','gill-attachment',\n",
    "             'gill-spacing','gill-size','gill-color','stalk-shape','stalk-root',\n",
    "             'stalk-surf-above-ring','stalk-surf-below-ring','stalk-color-above-ring','stalk-color-below-ring',\n",
    "             'veil-type','veil-color','ring-number','ring-type','spore-color','population','habitat']\n",
    "\n",
    "print(\"Example values:\\n\")\n",
    "print(df.iloc[3984]) #this one has a ? value - how are those treated by classifier?"
   ]
  },
  {
   "cell_type": "markdown",
   "metadata": {},
   "source": [
    "## Exploratory Data Analysis\n",
    "* What does our data look like?\n",
    "* We have data for 22 features, which ones are relevant to our classification?"
   ]
  },
  {
   "cell_type": "markdown",
   "metadata": {},
   "source": [
    "## How are the mushrooms distributed? \n",
    "### The 8134 mushrooms are about evenly split between edible and poisonous"
   ]
  },
  {
   "cell_type": "code",
   "execution_count": 106,
   "metadata": {},
   "outputs": [
    {
     "name": "stdout",
     "output_type": "stream",
     "text": [
      "e    4208\n",
      "p    3916\n",
      "Name: class, dtype: int64\n"
     ]
    },
    {
     "data": {
      "text/plain": [
       "<matplotlib.axes._subplots.AxesSubplot at 0x10cfae4a8>"
      ]
     },
     "execution_count": 106,
     "metadata": {},
     "output_type": "execute_result"
    },
    {
     "data": {
      "image/png": "[encoded data removed]",
      "text/plain": [
       "<matplotlib.figure.Figure at 0x10b6d9e48>"
      ]
     },
     "metadata": {},
     "output_type": "display_data"
    }
   ],
   "source": [
    "#show plots in notebook\n",
    "%matplotlib inline\n",
    "\n",
    "#bar chart of classes using pandas plotting\n",
    "print(df['class'].value_counts())\n",
    "df['class'].value_counts().plot(kind='bar')"
   ]
  },
  {
   "cell_type": "markdown",
   "metadata": {},
   "source": [
    "## How are certain features correlated to classification? "
   ]
  },
  {
   "cell_type": "code",
   "execution_count": 113,
   "metadata": {
    "collapsed": true
   },
   "outputs": [],
   "source": [
    "#seaborn factorplot to show edible/poisonous breakdown by different factors\n",
    "df_forplot = df.loc[:,('class','cap-shape','gill-color','veil-type', 'ring-type')]"
   ]
  },
  {
   "cell_type": "markdown",
   "metadata": {},
   "source": [
    "## Edibility by Cap Shape\n",
    "### Cap shape is not strongly correlated to classification as edible or poisonous"
   ]
  },
  {
   "cell_type": "code",
   "execution_count": 114,
   "metadata": {
    "scrolled": false
   },
   "outputs": [
    {
     "data": {
      "image/png": "[encoded data removed]",
      "text/plain": [
       "<matplotlib.figure.Figure at 0x1062a71d0>"
      ]
     },
     "metadata": {},
     "output_type": "display_data"
    }
   ],
   "source": [
    "g = sns.factorplot(\"class\", col=\"cap-shape\", data=df_forplot,\n",
    "                    kind=\"count\", size=2.5, aspect=.8, col_wrap=6)"
   ]
  },
  {
   "cell_type": "markdown",
   "metadata": {},
   "source": [
    "## Edibility by Gill Color\n",
    "### Buff=b colored gills are indicative of a poisonous classification"
   ]
  },
  {
   "cell_type": "code",
   "execution_count": 116,
   "metadata": {
    "scrolled": false
   },
   "outputs": [
    {
     "data": {
      "image/png": "[encoded data removed]",
      "text/plain": [
       "<matplotlib.figure.Figure at 0x10c6da320>"
      ]
     },
     "metadata": {},
     "output_type": "display_data"
    }
   ],
   "source": [
    "g = sns.factorplot(\"class\", col=\"gill-color\", data=df_forplot,\n",
    "                    kind=\"count\", size=2.5, aspect=.8, col_wrap=6)"
   ]
  },
  {
   "cell_type": "markdown",
   "metadata": {},
   "source": [
    "## Edibility by Veil Type\n",
    "### Note, there is only one veil type, and the mushrooms are about evenly split between edible and poisonous"
   ]
  },
  {
   "cell_type": "code",
   "execution_count": 117,
   "metadata": {},
   "outputs": [
    {
     "data": {
      "image/png": "[encoded data removed]",
      "text/plain": [
       "<matplotlib.figure.Figure at 0x10b08fa58>"
      ]
     },
     "metadata": {},
     "output_type": "display_data"
    }
   ],
   "source": [
    "g = sns.factorplot(\"class\", col='veil-type', data=df_forplot,\n",
    "                    kind=\"count\", size=2.5, aspect=.8, col_wrap=6)"
   ]
  },
  {
   "cell_type": "markdown",
   "metadata": {},
   "source": [
    "### Distribution of Veil Type\n",
    "It looks like there's only one type of veil in our data set, so we can ignore that feature in our analysis!"
   ]
  },
  {
   "cell_type": "code",
   "execution_count": 118,
   "metadata": {},
   "outputs": [
    {
     "data": {
      "text/plain": [
       "<matplotlib.axes._subplots.AxesSubplot at 0x10b6c94a8>"
      ]
     },
     "execution_count": 118,
     "metadata": {},
     "output_type": "execute_result"
    },
    {
     "data": {
      "image/png": "[encoded data removed]",
      "text/plain": [
       "<matplotlib.figure.Figure at 0x10bbfa8d0>"
      ]
     },
     "metadata": {},
     "output_type": "display_data"
    }
   ],
   "source": [
    "# Distribution for veil-type\n",
    "from collections import Counter\n",
    "\n",
    "letter_counts = Counter(df[\"veil-type\"])\n",
    "df_forveil = pd.DataFrame.from_dict(letter_counts, orient='index')\n",
    "df_forveil.plot(kind=\"bar\")"
   ]
  },
  {
   "cell_type": "markdown",
   "metadata": {},
   "source": [
    "## Edibility by Ring Type\n",
    "### N=none are entirely poisonous, F=flaring are entirely edible, P=pendant tend to be edible"
   ]
  },
  {
   "cell_type": "code",
   "execution_count": 119,
   "metadata": {},
   "outputs": [
    {
     "data": {
      "image/png": "[encoded data removed]",
      "text/plain": [
       "<matplotlib.figure.Figure at 0x10c32aa58>"
      ]
     },
     "metadata": {},
     "output_type": "display_data"
    }
   ],
   "source": [
    "g = sns.factorplot(\"class\", col='ring-type', data=df_forplot,\n",
    "                    kind=\"count\", size=2.5, aspect=.8, col_wrap=6)"
   ]
  },
  {
   "cell_type": "markdown",
   "metadata": {},
   "source": [
    "## Try out the Classifier on Different Feature Combinations"
   ]
  },
  {
   "cell_type": "code",
   "execution_count": 120,
   "metadata": {},
   "outputs": [
    {
     "name": "stdout",
     "output_type": "stream",
     "text": [
      "cap-shape ['b' 'c' 'f' 'k' 's' 'x']\n",
      "cap-surface ['f' 'g' 's' 'y']\n",
      "cap-color ['b' 'c' 'e' 'g' 'n' 'p' 'r' 'u' 'w' 'y']\n",
      "bruises ['f' 't']\n",
      "odor ['a' 'c' 'f' 'l' 'm' 'n' 'p' 's' 'y']\n",
      "gill-attachment ['a' 'f']\n",
      "gill-spacing ['c' 'w']\n",
      "gill-size ['b' 'n']\n",
      "gill-color ['b' 'e' 'g' 'h' 'k' 'n' 'o' 'p' 'r' 'u' 'w' 'y']\n",
      "stalk-shape ['e' 't']\n",
      "stalk-root ['?' 'b' 'c' 'e' 'r']\n",
      "stalk-surf-above-ring ['f' 'k' 's' 'y']\n",
      "stalk-surf-below-ring ['f' 'k' 's' 'y']\n",
      "stalk-color-above-ring ['b' 'c' 'e' 'g' 'n' 'o' 'p' 'w' 'y']\n",
      "stalk-color-below-ring ['b' 'c' 'e' 'g' 'n' 'o' 'p' 'w' 'y']\n",
      "veil-color ['n' 'o' 'w' 'y']\n",
      "ring-number ['n' 'o' 't']\n",
      "ring-type ['e' 'f' 'l' 'n' 'p']\n",
      "spore-color ['b' 'h' 'k' 'n' 'o' 'r' 'u' 'w' 'y']\n",
      "population ['a' 'c' 'n' 's' 'v' 'y']\n",
      "habitat ['d' 'g' 'l' 'm' 'p' 'u' 'w']\n",
      "\n",
      "Example Feature Values - row 1 in X:\n",
      "cap-shape                 x\n",
      "cap-surface               s\n",
      "cap-color                 y\n",
      "bruises                   t\n",
      "odor                      a\n",
      "gill-attachment           f\n",
      "gill-spacing              c\n",
      "gill-size                 b\n",
      "gill-color                k\n",
      "stalk-shape               e\n",
      "stalk-root                c\n",
      "stalk-surf-above-ring     s\n",
      "stalk-surf-below-ring     s\n",
      "stalk-color-above-ring    w\n",
      "stalk-color-below-ring    w\n",
      "veil-color                w\n",
      "ring-number               o\n",
      "ring-type                 p\n",
      "spore-color               n\n",
      "population                n\n",
      "habitat                   g\n",
      "Name: 1, dtype: object\n",
      "\n",
      "Example Encoded Feature Values - row 1 in x:\n",
      "cap-shape                 5\n",
      "cap-surface               2\n",
      "cap-color                 9\n",
      "bruises                   1\n",
      "odor                      0\n",
      "gill-attachment           1\n",
      "gill-spacing              0\n",
      "gill-size                 0\n",
      "gill-color                4\n",
      "stalk-shape               0\n",
      "stalk-root                2\n",
      "stalk-surf-above-ring     2\n",
      "stalk-surf-below-ring     2\n",
      "stalk-color-above-ring    7\n",
      "stalk-color-below-ring    7\n",
      "veil-color                2\n",
      "ring-number               1\n",
      "ring-type                 4\n",
      "spore-color               3\n",
      "population                2\n",
      "habitat                   1\n",
      "Name: 1, dtype: int64\n",
      "\n",
      "Class Values (Y):\n",
      "['p' 'e' 'e' ..., 'e' 'p' 'e']\n",
      "\n",
      "Encoded Class Values (y):\n",
      "[1 0 0 ..., 0 1 0]\n"
     ]
    }
   ],
   "source": [
    "#drop extraneous features\n",
    "df = df.drop(\"veil-type\", 1)\n",
    "\n",
    "#put the features into X (everything except the 0th column)\n",
    "X = pd.DataFrame(df, columns=df.columns[1:len(df.columns)], index=df.index)\n",
    "\n",
    "#put the class values (0th column) into Y \n",
    "Y = df['class']\n",
    "\n",
    "#encode the text category labels as numeric\n",
    "from sklearn import preprocessing\n",
    "le = preprocessing.LabelEncoder()\n",
    "le.fit(Y)\n",
    "#print(le.classes_)\n",
    "#print(np.array(Y))\n",
    "#Y values now boolean values; poison = 1\n",
    "y = le.transform(Y)\n",
    "#print(y_train)\n",
    "\n",
    "#have to initialize or get error below\n",
    "x = pd.DataFrame(X,columns=[X.columns[0]])\n",
    "#encode each feature column and add it to x_train\n",
    "for colname in X.columns:\n",
    "    le.fit(X[colname])\n",
    "    print(colname, le.classes_)\n",
    "    x[colname] = le.transform(X[colname])\n",
    "\n",
    "print('\\nExample Feature Values - row 1 in X:')\n",
    "print(X.iloc[1])\n",
    "print('\\nExample Encoded Feature Values - row 1 in x:')\n",
    "print(x.iloc[1])\n",
    "print('\\nClass Values (Y):')\n",
    "print(np.array(Y))\n",
    "print('\\nEncoded Class Values (y):')\n",
    "print(y)"
   ]
  },
  {
   "cell_type": "markdown",
   "metadata": {},
   "source": [
    "### Classify:"
   ]
  },
  {
   "cell_type": "code",
   "execution_count": 124,
   "metadata": {},
   "outputs": [
    {
     "name": "stdout",
     "output_type": "stream",
     "text": [
      "Training accuracy: 0.825968640663\n",
      "Testing accuracy: 0.855036855037\n"
     ]
    }
   ],
   "source": [
    "#split the dataset into training and test sets\n",
    "from sklearn.model_selection import train_test_split\n",
    "x_train, x_test, y_train, y_test = train_test_split(x, y, test_size=0.05)\n",
    "\n",
    "#initialize and fit the naive bayes classifier\n",
    "from sklearn.naive_bayes import BernoulliNB\n",
    "skgnb = BernoulliNB(alpha=0.2)\n",
    "skgnb.fit(x_train,y_train)\n",
    "train_predict = skgnb.predict(x_train)\n",
    "#print(train_predict)\n",
    "\n",
    "#see how accurate the training data was fit\n",
    "from sklearn import metrics\n",
    "print(\"Training accuracy:\",metrics.accuracy_score(y_train, train_predict))\n",
    "\n",
    "#use the trained model to predict the test values\n",
    "test_predict = skgnb.predict(x_test)\n",
    "print(\"Testing accuracy:\",metrics.accuracy_score(y_test, test_predict))"
   ]
  },
  {
   "cell_type": "code",
   "execution_count": 50,
   "metadata": {},
   "outputs": [
    {
     "name": "stdout",
     "output_type": "stream",
     "text": [
      "\n",
      "Classification Report:\n",
      "             precision    recall  f1-score   support\n",
      "\n",
      "     edible       0.83      0.91      0.86       839\n",
      "  poisonous       0.89      0.80      0.84       786\n",
      "\n",
      "avg / total       0.86      0.85      0.85      1625\n",
      "\n",
      "\n",
      "Confusion Matrix:\n",
      "           predicted-edible  predicted-poisonous\n",
      "actual                                          \n",
      "edible                  760                   79\n",
      "poisonous               160                  626\n",
      "\n",
      "Score (same thing as test accuracy?):  0.852923076923\n"
     ]
    }
   ],
   "source": [
    "print(\"\\nClassification Report:\")\n",
    "print(metrics.classification_report(y_test, test_predict, target_names=['edible','poisonous']))\n",
    "print(\"\\nConfusion Matrix:\")\n",
    "skcm = metrics.confusion_matrix(y_test,test_predict)\n",
    "#putting it into a dataframe so it prints the labels\n",
    "skcm = pd.DataFrame(skcm, columns=['predicted-edible','predicted-poisonous'])\n",
    "skcm['actual'] = ['edible','poisonous']\n",
    "skcm = skcm.set_index('actual')\n",
    "\n",
    "#NOTE: NEED TO MAKE SURE I'M INTERPRETING THE ROWS & COLS RIGHT TO ASSIGN THESE LABELS!\n",
    "print(skcm)\n",
    "\n",
    "print(\"\\nScore (same thing as test accuracy?): \", skgnb.score(x_test,y_test))"
   ]
  }
 ],
 "metadata": {
  "kernelspec": {
   "display_name": "Python 3",
   "language": "python",
   "name": "python3"
  },
  "language_info": {
   "codemirror_mode": {
    "name": "ipython",
    "version": 3
   },
   "file_extension": ".py",
   "mimetype": "text/x-python",
   "name": "python",
   "nbconvert_exporter": "python",
   "pygments_lexer": "ipython3",
   "version": "3.5.2"
  }
 },
 "nbformat": 4,
 "nbformat_minor": 2
}
